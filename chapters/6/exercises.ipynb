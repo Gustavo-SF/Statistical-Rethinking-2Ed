{
 "cells": [
  {
   "cell_type": "markdown",
   "id": "9061cbe0",
   "metadata": {},
   "source": [
    "# Chapter 6: The Haunted DAG & The Causal Terror - Exercises"
   ]
  },
  {
   "cell_type": "markdown",
   "id": "ec1ebaa3",
   "metadata": {},
   "source": [
    "**6E1** List three mechanisms by which multiple regression can produce false inferences about causal effects.\n",
    "\n",
    "Answer:\n",
    "\n",
    "1. Collider Bias\n",
    "2. Post-Treatment Bias\n",
    "3. Multicollinearity"
   ]
  },
  {
   "cell_type": "markdown",
   "id": "51727004",
   "metadata": {},
   "source": [
    "**6E2** For one of the mechanisms in the previous problem, provide an example of your choice, perhaps from your own research.\n",
    "\n",
    "Answer:\n",
    "\n",
    "Restaurants in the city can have a tendency to be worse than in more rural settings. This happens because we only survey restaurants that survive, which is itself a variable. This variable is a **collider** because it is caused by both the quality of the restaurant and the location."
   ]
  },
  {
   "cell_type": "markdown",
   "id": "3f8b3cce",
   "metadata": {},
   "source": [
    "**6E3** List the four elemental confounds. Can you explain the conditional dependencies of each?\n",
    "\n",
    "Answer:\n",
    "\n",
    "1. Fork. Z causes A and B. Conditional on Z, A is independent of B.\n",
    "2. Pipe. A causes B which causes C. A and C are independent, conditional on B.\n",
    "3. Collider. A and B causes C. A and B are independent of each other, but conditioning on C brings a spurious association.\n",
    "4. Descendant. Similar to Collider, but C causes D which has less information than C."
   ]
  },
  {
   "cell_type": "markdown",
   "id": "f705e6ba",
   "metadata": {},
   "source": [
    "**6E4** How is a biased sample like conditioning on a collider? Think of the example at the open of the chapter.\n",
    "\n",
    "Answer: Same as answer 6E2."
   ]
  },
  {
   "cell_type": "markdown",
   "id": "7a4167d1",
   "metadata": {},
   "source": [
    "**6M1** Modify the DAG on page 186 to include the variable V, an unobserved cause of C and Y: C ← V → Y. Reanalyze the DAG. How many paths connect X to Y? Which must be closed? Which variables should you condition on now?"
   ]
  },
  {
   "cell_type": "code",
   "execution_count": 1,
   "id": "78e54f19",
   "metadata": {},
   "outputs": [
    {
     "data": {
      "image/png": "[encoded data removed]",
      "text/plain": [
       "<Figure size 291.339x291.339 with 1 Axes>"
      ]
     },
     "metadata": {},
     "output_type": "display_data"
    }
   ],
   "source": [
    "import daft\n",
    "from causalgraphicalmodels import CausalGraphicalModel\n",
    "from matplotlib import pyplot as plt\n",
    "\n",
    "dag = CausalGraphicalModel(\n",
    "    nodes=['X', 'Y', 'C', 'U', 'B', 'A', 'V'],\n",
    "    edges=[\n",
    "        ('X', 'Y'),\n",
    "        ('U', 'X'),\n",
    "        ('A', 'U'),\n",
    "        ('A', 'C'),\n",
    "        ('C', 'Y'),\n",
    "        ('U', 'B'),\n",
    "        ('C', 'B'),\n",
    "        ('V', 'C'),\n",
    "        ('V', 'Y'),\n",
    "    ],\n",
    ")\n",
    "pgm = daft.PGM()\n",
    "coordinates = {\n",
    "    'X': (3, 0), 'Y': (3, 2), 'C': (1, 2), \n",
    "    'U': (1, 0), 'B': (2, 1), 'A': (0, 1),\n",
    "    'V': (2, 3),\n",
    "}\n",
    "for node in dag.dag.nodes:\n",
    "    pgm.add_node(node, node, *coordinates[node])\n",
    "for edge in dag.dag.edges:\n",
    "    pgm.add_edge(*edge)\n",
    "pgm.render()\n",
    "plt.gca().invert_yaxis();"
   ]
  },
  {
   "cell_type": "code",
   "execution_count": 2,
   "id": "b9cc779c",
   "metadata": {},
   "outputs": [
    {
     "name": "stdout",
     "output_type": "stream",
     "text": [
      "frozenset({'A'})\n",
      "frozenset({'C', 'V'})\n"
     ]
    }
   ],
   "source": [
    "all_adjustment_sets = dag.get_all_backdoor_adjustment_sets('X', 'Y')\n",
    "for s in all_adjustment_sets:\n",
    "    if all(not t.issubset(s) for t in all_adjustment_sets if t != s):\n",
    "        if s != {'U'}:\n",
    "            print(s)"
   ]
  },
  {
   "cell_type": "markdown",
   "id": "0e875a4e",
   "metadata": {},
   "source": [
    "**6M2** Sometimes, in order to avoid multicollinearity, people inspect pairwise correlations among predictors before including them in a model. This is a bad procedure, because what matters is the conditional association, not the association before the variables are included in the model. To highlight this, consider the DAG X → Z → Y. Simulate data from this DAG so that the correlation between X and Z is very large. Then include both in a model prediction Y. Do you observe any multicollinearity? Why or why not? What is different from the legs example in the chapter?"
   ]
  },
  {
   "cell_type": "code",
   "execution_count": 3,
   "id": "99951bc5",
   "metadata": {},
   "outputs": [
    {
     "data": {
      "text/plain": [
       "PearsonRResult(statistic=0.8881082149119461, pvalue=0.0)"
      ]
     },
     "execution_count": 3,
     "metadata": {},
     "output_type": "execute_result"
    }
   ],
   "source": [
    "import numpy as np\n",
    "from scipy import stats\n",
    "\n",
    "np.random.seed(42)\n",
    "x = np.random.normal(size=10000)\n",
    "z = np.random.normal(loc=x*2)\n",
    "y = np.random.normal(loc=z*4)\n",
    "\n",
    "stats.pearsonr(x, y)"
   ]
  },
  {
   "cell_type": "code",
   "execution_count": 5,
   "id": "ed5c12b2",
   "metadata": {},
   "outputs": [
    {
     "data": {
      "text/html": [
       "\n",
       "<style>\n",
       "    /* Turns off some styling */\n",
       "    progress {\n",
       "        /* gets rid of default border in Firefox and Opera. */\n",
       "        border: none;\n",
       "        /* Needs to be in here for Safari polyfill so background images work as expected. */\n",
       "        background-size: auto;\n",
       "    }\n",
       "    progress:not([value]), progress:not([value])::-webkit-progress-bar {\n",
       "        background: repeating-linear-gradient(45deg, #7e7e7e, #7e7e7e 10px, #5c5c5c 10px, #5c5c5c 20px);\n",
       "    }\n",
       "    .progress-bar-interrupted, .progress-bar-interrupted::-webkit-progress-bar {\n",
       "        background: #F44336;\n",
       "    }\n",
       "</style>\n"
      ],
      "text/plain": [
       "<IPython.core.display.HTML object>"
      ]
     },
     "metadata": {},
     "output_type": "display_data"
    },
    {
     "data": {
      "text/html": [
       "\n",
       "    <div>\n",
       "      <progress value='25' class='' max='25' style='width:300px; height:20px; vertical-align: middle;'></progress>\n",
       "      100.00% [25/25 00:00&lt;00:00 logp = -14,114, ||grad|| = 102.47]\n",
       "    </div>\n",
       "    "
      ],
      "text/plain": [
       "<IPython.core.display.HTML object>"
      ]
     },
     "metadata": {},
     "output_type": "display_data"
    },
    {
     "name": "stdout",
     "output_type": "stream",
     "text": [
      "\n"
     ]
    },
    {
     "data": {
      "text/html": [
       "<div>\n",
       "<style scoped>\n",
       "    .dataframe tbody tr th:only-of-type {\n",
       "        vertical-align: middle;\n",
       "    }\n",
       "\n",
       "    .dataframe tbody tr th {\n",
       "        vertical-align: top;\n",
       "    }\n",
       "\n",
       "    .dataframe thead th {\n",
       "        text-align: right;\n",
       "    }\n",
       "</style>\n",
       "<table border=\"1\" class=\"dataframe\">\n",
       "  <thead>\n",
       "    <tr style=\"text-align: right;\">\n",
       "      <th></th>\n",
       "      <th>mean</th>\n",
       "      <th>std</th>\n",
       "      <th>5.5%</th>\n",
       "      <th>94.5%</th>\n",
       "    </tr>\n",
       "  </thead>\n",
       "  <tbody>\n",
       "    <tr>\n",
       "      <th>sigma</th>\n",
       "      <td>0.990607</td>\n",
       "      <td>0.007168</td>\n",
       "      <td>0.978978</td>\n",
       "      <td>1.002234</td>\n",
       "    </tr>\n",
       "    <tr>\n",
       "      <th>bx</th>\n",
       "      <td>-0.026606</td>\n",
       "      <td>0.022127</td>\n",
       "      <td>-0.061911</td>\n",
       "      <td>0.009343</td>\n",
       "    </tr>\n",
       "    <tr>\n",
       "      <th>bz</th>\n",
       "      <td>4.026628</td>\n",
       "      <td>0.009869</td>\n",
       "      <td>4.010875</td>\n",
       "      <td>4.042445</td>\n",
       "    </tr>\n",
       "    <tr>\n",
       "      <th>a</th>\n",
       "      <td>-0.012681</td>\n",
       "      <td>0.009829</td>\n",
       "      <td>-0.028255</td>\n",
       "      <td>0.002890</td>\n",
       "    </tr>\n",
       "  </tbody>\n",
       "</table>\n",
       "</div>"
      ],
      "text/plain": [
       "           mean       std      5.5%     94.5%\n",
       "sigma  0.990607  0.007168  0.978978  1.002234\n",
       "bx    -0.026606  0.022127 -0.061911  0.009343\n",
       "bz     4.026628  0.009869  4.010875  4.042445\n",
       "a     -0.012681  0.009829 -0.028255  0.002890"
      ]
     },
     "execution_count": 5,
     "metadata": {},
     "output_type": "execute_result"
    }
   ],
   "source": [
    "import pymc as pm\n",
    "from rethinking import quap, precis\n",
    "import pandas as pd\n",
    "\n",
    "\n",
    "with pm.Model() as model:\n",
    "    sigma = pm.Exponential('sigma', 1)\n",
    "    bx = pm.Normal('bx', 1, 100)\n",
    "    bz = pm.Normal('bz', 1, 100)\n",
    "    a = pm.Normal('a', 1, 100)\n",
    "    mu = pm.Deterministic('mu', a + bx * x + bz * z)\n",
    "    yo = pm.Normal('yo', mu, sigma, observed=y)\n",
    "    \n",
    "    post, vars_ = quap(model)\n",
    "\n",
    "var_names = [v.name for v in vars_]\n",
    "post_data = pd.DataFrame(post.rvs(10_000), columns=var_names)\n",
    "precis(post, var_names)"
   ]
  },
  {
   "cell_type": "markdown",
   "id": "306422b3",
   "metadata": {},
   "source": [
    "As expected from a **Pipe**, X is independent of Y when conditioned on Z. Although we can identify high collinearity, it isn't the same as the leg problem, since one causes the other instead of having another unobserved variable causing both."
   ]
  },
  {
   "cell_type": "markdown",
   "id": "8aab96ab",
   "metadata": {},
   "source": [
    "**6M3** Learning to analyze DAGs requires practice. For each of the four DAGs below, state which variables, if any, you must adjust for (condition on) to estimate the total causal influence of X on Y.\n",
    "\n",
    "Answer:\n",
    "\n",
    "1. Top Left: Z\n",
    "2. Top Right: {}\n",
    "3. Bottom Left: {}\n",
    "4. Bottom Right: A"
   ]
  },
  {
   "cell_type": "markdown",
   "id": "aa0a50cc",
   "metadata": {},
   "source": [
    "**6H1** Use the Waffle House data, data(WaffleDivorce), to find the total causal influence of number of Waffle Houses on divorce rate. Justify your model or models with a causal graph."
   ]
  },
  {
   "cell_type": "code",
   "execution_count": 8,
   "id": "bf1e05ed",
   "metadata": {},
   "outputs": [
    {
     "data": {
      "image/png": "[encoded data removed]",
      "text/plain": [
       "<Figure size 212.598x212.598 with 1 Axes>"
      ]
     },
     "metadata": {},
     "output_type": "display_data"
    }
   ],
   "source": [
    "dag = CausalGraphicalModel(\n",
    "    nodes=['S', 'W', 'D', 'A', 'M'],\n",
    "    edges=[\n",
    "        ('S', 'W'),\n",
    "        ('W', 'D'),\n",
    "        ('A', 'D'),\n",
    "        ('S', 'A'),\n",
    "        ('S', 'M'),\n",
    "        ('M', 'D'),\n",
    "        ('A', 'M'),\n",
    "    ],\n",
    ")\n",
    "pgm = daft.PGM()\n",
    "coordinates = {\n",
    "    'S': (0, 0), 'W': (0, 2), 'D': (2, 2), \n",
    "    'A': (2, 0), 'M': (1, 1),\n",
    "}\n",
    "for node in dag.dag.nodes:\n",
    "    pgm.add_node(node, node, *coordinates[node])\n",
    "for edge in dag.dag.edges:\n",
    "    pgm.add_edge(*edge)\n",
    "pgm.render()\n",
    "plt.gca().invert_yaxis();"
   ]
  },
  {
   "cell_type": "markdown",
   "id": "7db84ced",
   "metadata": {},
   "source": [
    "To close the S Fork, we can condition on it. It is also possible to condition on both A and M."
   ]
  },
  {
   "cell_type": "code",
   "execution_count": 12,
   "id": "12fe3714",
   "metadata": {},
   "outputs": [],
   "source": [
    "from rethinking import DATA_PATH, standardize\n",
    "\n",
    "d = pd.read_csv(DATA_PATH.joinpath('WaffleDivorce.csv'), sep=';')"
   ]
  },
  {
   "cell_type": "code",
   "execution_count": 15,
   "id": "8cc5b2c5",
   "metadata": {},
   "outputs": [],
   "source": [
    "W = standardize(d['WaffleHouses'].values)\n",
    "Do = standardize(d['Divorce'].values)\n",
    "S = d['South'].values"
   ]
  },
  {
   "cell_type": "code",
   "execution_count": 16,
   "id": "1560d1e2",
   "metadata": {},
   "outputs": [
    {
     "data": {
      "text/html": [
       "\n",
       "<style>\n",
       "    /* Turns off some styling */\n",
       "    progress {\n",
       "        /* gets rid of default border in Firefox and Opera. */\n",
       "        border: none;\n",
       "        /* Needs to be in here for Safari polyfill so background images work as expected. */\n",
       "        background-size: auto;\n",
       "    }\n",
       "    progress:not([value]), progress:not([value])::-webkit-progress-bar {\n",
       "        background: repeating-linear-gradient(45deg, #7e7e7e, #7e7e7e 10px, #5c5c5c 10px, #5c5c5c 20px);\n",
       "    }\n",
       "    .progress-bar-interrupted, .progress-bar-interrupted::-webkit-progress-bar {\n",
       "        background: #F44336;\n",
       "    }\n",
       "</style>\n"
      ],
      "text/plain": [
       "<IPython.core.display.HTML object>"
      ]
     },
     "metadata": {},
     "output_type": "display_data"
    },
    {
     "data": {
      "text/html": [
       "\n",
       "    <div>\n",
       "      <progress value='10' class='' max='10' style='width:300px; height:20px; vertical-align: middle;'></progress>\n",
       "      100.00% [10/10 00:00&lt;00:00 logp = -70.792, ||grad|| = 16.822]\n",
       "    </div>\n",
       "    "
      ],
      "text/plain": [
       "<IPython.core.display.HTML object>"
      ]
     },
     "metadata": {},
     "output_type": "display_data"
    },
    {
     "name": "stdout",
     "output_type": "stream",
     "text": [
      "\n"
     ]
    },
    {
     "data": {
      "text/html": [
       "<div>\n",
       "<style scoped>\n",
       "    .dataframe tbody tr th:only-of-type {\n",
       "        vertical-align: middle;\n",
       "    }\n",
       "\n",
       "    .dataframe tbody tr th {\n",
       "        vertical-align: top;\n",
       "    }\n",
       "\n",
       "    .dataframe thead th {\n",
       "        text-align: right;\n",
       "    }\n",
       "</style>\n",
       "<table border=\"1\" class=\"dataframe\">\n",
       "  <thead>\n",
       "    <tr style=\"text-align: right;\">\n",
       "      <th></th>\n",
       "      <th>mean</th>\n",
       "      <th>std</th>\n",
       "      <th>5.5%</th>\n",
       "      <th>94.5%</th>\n",
       "    </tr>\n",
       "  </thead>\n",
       "  <tbody>\n",
       "    <tr>\n",
       "      <th>sigma</th>\n",
       "      <td>0.942872</td>\n",
       "      <td>0.100266</td>\n",
       "      <td>0.785273</td>\n",
       "      <td>1.106619</td>\n",
       "    </tr>\n",
       "    <tr>\n",
       "      <th>a0</th>\n",
       "      <td>-0.087527</td>\n",
       "      <td>0.130014</td>\n",
       "      <td>-0.295912</td>\n",
       "      <td>0.118942</td>\n",
       "    </tr>\n",
       "    <tr>\n",
       "      <th>a1</th>\n",
       "      <td>0.143212</td>\n",
       "      <td>0.169601</td>\n",
       "      <td>-0.129057</td>\n",
       "      <td>0.417621</td>\n",
       "    </tr>\n",
       "    <tr>\n",
       "      <th>bW</th>\n",
       "      <td>0.171624</td>\n",
       "      <td>0.142803</td>\n",
       "      <td>-0.058422</td>\n",
       "      <td>0.398738</td>\n",
       "    </tr>\n",
       "  </tbody>\n",
       "</table>\n",
       "</div>"
      ],
      "text/plain": [
       "           mean       std      5.5%     94.5%\n",
       "sigma  0.942872  0.100266  0.785273  1.106619\n",
       "a0    -0.087527  0.130014 -0.295912  0.118942\n",
       "a1     0.143212  0.169601 -0.129057  0.417621\n",
       "bW     0.171624  0.142803 -0.058422  0.398738"
      ]
     },
     "execution_count": 16,
     "metadata": {},
     "output_type": "execute_result"
    }
   ],
   "source": [
    "with pm.Model() as model:\n",
    "    sigma = pm.Exponential('sigma', 1)\n",
    "    a = pm.Normal('a', 0, 0.2, shape=2)\n",
    "    bW = pm.Normal('bW', 0, 0.5)\n",
    "    mu = pm.Deterministic('mu', a[S] + bW*W)\n",
    "    D = pm.Normal('D', mu, sigma, observed=Do)\n",
    "    post, vars_ = quap(model)\n",
    "\n",
    "precis(post, ['sigma', 'a0', 'a1', 'bW'])"
   ]
  },
  {
   "cell_type": "markdown",
   "id": "c7717bae",
   "metadata": {},
   "source": [
    "In this model, we can see that the causal effect of Waffle houses on Divorce rate is very small."
   ]
  },
  {
   "cell_type": "markdown",
   "id": "9e297c39",
   "metadata": {},
   "source": [
    "**6H2** Build a series of models to test the implied conditional independencies of the causal graph you used in the previous problem. If any of the tests fail, how do you think the graph needs to be amended? Does the graph need more or fewer arrows? Feel free to nominate variables that aren’t in the data."
   ]
  },
  {
   "cell_type": "code",
   "execution_count": 17,
   "id": "eceaad07",
   "metadata": {},
   "outputs": [
    {
     "data": {
      "text/plain": [
       "[('D', 'S', {'A', 'M', 'W'}),\n",
       " ('A', 'W', {'S'}),\n",
       " ('A', 'W', {'M', 'S'}),\n",
       " ('M', 'W', {'S'}),\n",
       " ('M', 'W', {'A', 'S'})]"
      ]
     },
     "execution_count": 17,
     "metadata": {},
     "output_type": "execute_result"
    }
   ],
   "source": [
    "dag.get_all_independence_relationships()"
   ]
  },
  {
   "cell_type": "markdown",
   "id": "7c796df2",
   "metadata": {},
   "source": [
    "To test these models, we need to check if we consider all the variables, then the relationship between one and the other will be close to 0."
   ]
  },
  {
   "cell_type": "markdown",
   "id": "cfd80230",
   "metadata": {},
   "source": [
    "**6H3** Use a model to infer the total causal influence of area on weight. Would increasing the area available to each fox make it heavier (healthier)? You might want to standardize the variables. Regardless, use prior predictive simulation to show that your model’s prior predictions stay within the possible outcome range"
   ]
  }
 ],
 "metadata": {
  "kernelspec": {
   "display_name": "Python 3 (ipykernel)",
   "language": "python",
   "name": "python3"
  },
  "language_info": {
   "codemirror_mode": {
    "name": "ipython",
    "version": 3
   },
   "file_extension": ".py",
   "mimetype": "text/x-python",
   "name": "python",
   "nbconvert_exporter": "python",
   "pygments_lexer": "ipython3",
   "version": "3.10.6"
  }
 },
 "nbformat": 4,
 "nbformat_minor": 5
}
