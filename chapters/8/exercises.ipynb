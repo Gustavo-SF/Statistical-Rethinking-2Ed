{
 "cells": [
  {
   "cell_type": "markdown",
   "id": "fa5983ae",
   "metadata": {},
   "source": [
    "# Chapter 8: Conditional Manatees - Exercises"
   ]
  },
  {
   "cell_type": "markdown",
   "id": "5172a6c9",
   "metadata": {},
   "source": [
    "**8E1** For each of the causal relationships below, name a hypothetical third variable that would lead to an interaction effect.\n",
    "\n",
    "1. Bread dough rises because of yeast: **Sugar**\n",
    "\n",
    "2. Education leads to higher income: **Hard Work**\n",
    "\n",
    "3. Gasoline makes a car go: **Fire**"
   ]
  },
  {
   "cell_type": "markdown",
   "id": "21b8c56f",
   "metadata": {},
   "source": [
    "**8E2** Which of the following explanations invokes an interaction?\n",
    "\n",
    "1. **Caramelizing onions requires cooking over low heat and making sure the onions do not dry out.**\n",
    "\n",
    "2. A car will go faster when it has more cylinders or when it has a better fuel injector.\n",
    "\n",
    "3. Most people acquire their political beliefs from their parents, unless they get them instead from their friends.\n",
    "\n",
    "4. **Intelligent animal species tend to be either highly social or have manipulative appendages (hands, tentacles, etc.).**"
   ]
  },
  {
   "cell_type": "markdown",
   "id": "5712bd57",
   "metadata": {},
   "source": [
    "**8E3** For each of the explanations in 8E2, write a linear model that expresses the stated relationship.\n",
    "\n",
    "Answer:\n",
    "\n",
    "1. $C = \\beta_HH_i + \\beta_MM_i + \\beta_{MH}H_iM_i$\n",
    "2. $S = \\beta_CC_i + \\beta_II_i$\n",
    "3. $Po = \\beta_PP_i + \\beta_FF_i$\n",
    "4. $I = \\beta_SS_i + \\beta_AA_i + \\beta_{SA}S_iA_i$"
   ]
  },
  {
   "cell_type": "markdown",
   "id": "385ffd76",
   "metadata": {},
   "source": [
    "**8M1** Recall the tulips example from the chapter. Suppose another set of treatments adjusted the temperature in the greenhouse over two levels: cold and hot. The data in the chapter were collected at the cold temperature. You find none of the plants grown under the hot temperature developed any blooms at all, regardless of the water and shade levels. Can you explain this result in terms of interactions between water, shade, and temperature?\n",
    "\n",
    "Answer:\n",
    "\n",
    "We would need to model this as a three way model interaction."
   ]
  },
  {
   "cell_type": "markdown",
   "id": "ea46db0d",
   "metadata": {},
   "source": [
    "**8M2** Can you invent a regression equation that would make the bloom size zero, whenever the temperature is hot?\n",
    "\n",
    "Answer:\n",
    "\n",
    "$$\\mu_i = (1 - T)(\\alpha + \\beta_WW_i + \\beta_SS_i + \\beta_{WS}W_iS_i)$$\n",
    "\n",
    "This means that when $T=1$ blooms are 0."
   ]
  },
  {
   "cell_type": "markdown",
   "id": "b5b9155c",
   "metadata": {},
   "source": [
    "**8M3** In parts of North America, ravens depende upon wolves for their food. This is because ravens are carnivorous but cannot usually kill or open carcasses of prey. Wolves however can and do kill and tear open animals, and they tolerate ravens co-feeding at their kills. This species relationship is generally described as a \"species interaction.\" Can you invent a hypothetical set of data on raven population size in which this relationship would manifest as a statistical interaction? Do you think the biological interaction could be linear? Why or why not?\n",
    "\n",
    "Answer:\n",
    "\n",
    "Both wolves and ravens can exhaut the food supply. Although ravens grow with the number of wolves, the food is limited.\n",
    "\n",
    "$$F = \\alpha - \\beta_WW_i - (\\beta_R+ \\beta_{RW}W_i)R_i $$"
   ]
  }
 ],
 "metadata": {
  "kernelspec": {
   "display_name": "Python 3 (ipykernel)",
   "language": "python",
   "name": "python3"
  },
  "language_info": {
   "codemirror_mode": {
    "name": "ipython",
    "version": 3
   },
   "file_extension": ".py",
   "mimetype": "text/x-python",
   "name": "python",
   "nbconvert_exporter": "python",
   "pygments_lexer": "ipython3",
   "version": "3.10.6"
  }
 },
 "nbformat": 4,
 "nbformat_minor": 5
}
