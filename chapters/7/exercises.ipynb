{
 "cells": [
  {
   "cell_type": "markdown",
   "id": "a364f674",
   "metadata": {},
   "source": [
    "# Chapter 7: Ulysses' Compass - Exercises"
   ]
  },
  {
   "cell_type": "markdown",
   "id": "e5141878",
   "metadata": {},
   "source": [
    "**7E1** State the three motivating criteria that define information entropy. Try to express each in your own words.\n",
    "\n",
    "Answer:\n",
    "\n",
    "1. The measure of uncertainty should be **continuous**. This means that small changes would not cause big differences in uncertainty.\n",
    "\n",
    "2. The measure of uncertainty should **increase with the number of events** happening. If we are measuring uncertainty for something complex, it should be more uncertain.\n",
    "\n",
    "3. The measure of uncertainty should be **additive**. "
   ]
  },
  {
   "cell_type": "markdown",
   "id": "a1f381a7",
   "metadata": {},
   "source": [
    "**7E2** Suppose a coin is weighted such that, when it is tossed and lands on a table, it comes up heads 70% of the time. What is the entropy of this coin?"
   ]
  },
  {
   "cell_type": "code",
   "execution_count": 8,
   "id": "a90f6627",
   "metadata": {},
   "outputs": [
    {
     "data": {
      "text/plain": [
       "0.8812908992306927"
      ]
     },
     "execution_count": 8,
     "metadata": {},
     "output_type": "execute_result"
    }
   ],
   "source": [
    "import numpy as np\n",
    "\n",
    "coin = np.array([0.70, 0.30])\n",
    "-np.sum(coin * np.log2(coin))"
   ]
  },
  {
   "cell_type": "markdown",
   "id": "407987ec",
   "metadata": {},
   "source": [
    "**7E3** Suppose a four-sided die is loaded such that, when tossed onto a table, it shows “1” 20%, “2” 25%, “3” 25%, and “4” 30% of the time. What is the entropy of this die?"
   ]
  },
  {
   "cell_type": "code",
   "execution_count": 11,
   "id": "4c029d22",
   "metadata": {},
   "outputs": [
    {
     "data": {
      "text/plain": [
       "1.9854752972273344"
      ]
     },
     "execution_count": 11,
     "metadata": {},
     "output_type": "execute_result"
    }
   ],
   "source": [
    "die = np.array([0.2, 0.25, 0.25, 0.3])\n",
    "-np.sum(die * np.log2(die))"
   ]
  },
  {
   "cell_type": "markdown",
   "id": "dbfb6f22",
   "metadata": {},
   "source": [
    "**7E4** Suppose another four-sided die is loaded such that it never shows “4”. The other three sides show equally often. What is the entropy of this die?\n",
    "\n",
    "Answer: \n",
    "\n",
    "The entropy is not valid for this probability distribution. And it makes sense because it means that we can be certain that something that never shows a \"4\" will never be able to have a distribution with a \"4\" showing 1 or more times."
   ]
  },
  {
   "cell_type": "markdown",
   "id": "bc18bc7c",
   "metadata": {},
   "source": [
    "**7M1** Write down and compare the definitions of AIC and WAIC. Which of these criteria is most general? Which assumptions are required to transform the more general criterion into a less general one?\n",
    "\n",
    "Answer:\n",
    "\n",
    "AIC:\n",
    "$$\\text{AIC} = D_{train} + 2p = -2\\text{lppd} + 2p$$\n",
    "\n",
    "WAIC:\n",
    "$$\\text{WAIC}(y,\\Theta) = -2(\\text{lppd} - \\sum_i \\text{var}_{\\theta} \\text{log}p(y_i|\\theta))$$\n",
    "\n",
    "AIC uses parameters as a penalty to the information criterion, and WAIC uses the sum of the variation of the individual obervations. WAIC is more general and is less constrained than the AIC."
   ]
  },
  {
   "cell_type": "markdown",
   "id": "99b6e1fd",
   "metadata": {},
   "source": [
    "**7M2** Explain the difference between model selection and model comparison. What information is lost under model selection?\n",
    "\n",
    "Answer:\n",
    "\n",
    "Model selection is using information from measures such as the ones from Information Criteria to choose one model over another. Model comparison is using the differences in measures between all models to get an understanding of improvement over all the model's distribution."
   ]
  },
  {
   "cell_type": "markdown",
   "id": "98221c7f",
   "metadata": {},
   "source": [
    "**7M3** When comparing models with an information criterion, why must all models be fit to exactly the same observations? What would happen to the information criterion values, if the models were fit to different numbers of observations? Perform some experiments, if you are not sure.\n",
    "\n",
    "Answer:\n",
    "\n",
    "Information criteria increases with sample size and has different values depending on the observations. This means that the comparison won't be correct if we use different samples between the models."
   ]
  },
  {
   "cell_type": "markdown",
   "id": "11fd3dba",
   "metadata": {},
   "source": [
    "**7M4** What happens to the effective number of parameters, as measured by PSIS or WAIC, as a prior becomes more concentrated? Why? Perform some experiments, if you are not sure.\n",
    "\n",
    "Answer:\n",
    "\n",
    "The narrower prior makes a narrower posterior and therefore the penalty term in WAIC will be smaller. Therefore the effective number of parameters will also be smaller."
   ]
  },
  {
   "cell_type": "markdown",
   "id": "0fce39e7",
   "metadata": {},
   "source": [
    "**7M5** Provide an informal explanation of why informative priors reduce overfitting.\n",
    "\n",
    "Answer:\n",
    "\n",
    "Science knowledge is superior to modeling. If we can use informative priors, we give less space to the model to make mistakes."
   ]
  },
  {
   "cell_type": "markdown",
   "id": "7b2b8907",
   "metadata": {},
   "source": [
    "**7M6** Provide an informal explanation of why overly informative priors result in underfitting.\n",
    "\n",
    "If we have a very strict prior, than the model can adapt the posterior very close to the prior and won't be able to use the other observations to prepare itself for unseen data."
   ]
  },
  {
   "cell_type": "markdown",
   "id": "7149982e",
   "metadata": {},
   "source": [
    "**7H1** In 2007, The Wall Street Journal published an editorial (“We’re Number One, Alas”) with a graph of corporate tax rates in 29 countries plotted against tax revenue. A badly fit curve was drawn in (reconstructed at right), seemingly by hand, to make the argument that the relationship between tax rate and tax revenue increases and then declines, such that higher tax rates can actually produce less tax revenue. I want you to actually fit a curve to these data, found in data(Laffer). Consider models that use tax rate to predict tax revenue. Compare, using WAIC or PSIS, a straight-line model to any curved models you like. What do you conclude about the relationship between tax rate and tax revenue?"
   ]
  },
  {
   "cell_type": "code",
   "execution_count": 19,
   "id": "ab179a2a",
   "metadata": {},
   "outputs": [
    {
     "data": {
      "image/png": "[encoded data removed]",
      "text/plain": [
       "<Figure size 640x480 with 1 Axes>"
      ]
     },
     "metadata": {},
     "output_type": "display_data"
    }
   ],
   "source": [
    "from rethinking import DATA_PATH, standardize\n",
    "import pandas as pd\n",
    "import seaborn as sns\n",
    "from matplotlib import pyplot as plt\n",
    "\n",
    "Laffer = pd.read_csv(DATA_PATH.joinpath('Laffer.csv'), sep=';')\n",
    "sns.scatterplot(x='tax_rate', y='tax_revenue', data=Laffer);\n",
    "\n",
    "# standardise the data\n",
    "Laffer[\"s_taxRate\"] = standardize(Laffer['tax_rate'])\n",
    "Laffer[\"s_taxRevenue\"] = standardize(Laffer['tax_revenue'])"
   ]
  },
  {
   "cell_type": "code",
   "execution_count": 118,
   "id": "ff836dd2",
   "metadata": {},
   "outputs": [],
   "source": [
    "import pymc as pm\n",
    "from rethinking import quap\n",
    "from scipy import stats\n",
    "from scipy.special import logsumexp\n",
    "\n",
    "def waic(x_values, y_values, n_pols, post_, varss_):\n",
    "\n",
    "    matrix = (\n",
    "        np.tile(x_values, (n_pols, 1)) \n",
    "        ** np.arange(1, n_pols+1).reshape(-1, 1)\n",
    "    )\n",
    "\n",
    "    var_names = (\n",
    "        [varss_[0].name] \n",
    "        + [f'{varss_[1]}{i}' for i in range(n_pols)]\n",
    "        + [varss_[-1].name]\n",
    "    )\n",
    "\n",
    "    post_data = pd.DataFrame(post_.rvs(10_000), columns=var_names)\n",
    "\n",
    "    B = post_data.filter(regex='b').values.T\n",
    "    mu = (post_data[['a']].values + np.dot(B.T, matrix)).T\n",
    "    sig = post_data[['sigma']].values.T\n",
    "\n",
    "\n",
    "    logprob = stats.norm.logpdf(\n",
    "        y_values.reshape(-1, 1),\n",
    "        loc=mu,\n",
    "        scale=sig\n",
    "    )\n",
    "\n",
    "    n_cases = len(x_values)\n",
    "    lppd = logsumexp(logprob, axis=1) - np.log(10_000)\n",
    "    pWAIC = logprob.var(axis=1)\n",
    "    waic_val = -2*(lppd.sum() - pWAIC.sum())\n",
    "    \n",
    "    waic_vec = -2 * (lppd - pWAIC)\n",
    "    stderr = (n_cases * waic_vec.var())**0.5\n",
    "    return waic_val, pWAIC, stderr\n",
    "\n",
    "\n",
    "def model_laffer(x_values, y_values, n_pols):\n",
    "    tax_matrix = (\n",
    "        np.tile(x_values, (n_pols, 1)) \n",
    "        ** np.arange(1, n_pols+1).reshape(-1, 1)\n",
    "    )\n",
    "\n",
    "\n",
    "    with pm.Model() as model:\n",
    "        a = pm.Normal('a', 0, 0.2)\n",
    "        b = pm.Normal('b', 0, 0.5, shape=tax_matrix.shape[0])\n",
    "        sigma = pm.Lognormal('sigma', 0, 1)\n",
    "        mu = pm.Deterministic('mu', a + pm.math.dot(b, tax_matrix))\n",
    "        rev = pm.Normal('rev', mu, sigma, observed=y_values)\n",
    "        post, vars_ = quap(model)\n",
    "    \n",
    "    return post, vars_"
   ]
  },
  {
   "cell_type": "code",
   "execution_count": 120,
   "id": "72219c49",
   "metadata": {},
   "outputs": [
    {
     "data": {
      "text/html": [
       "\n",
       "<style>\n",
       "    /* Turns off some styling */\n",
       "    progress {\n",
       "        /* gets rid of default border in Firefox and Opera. */\n",
       "        border: none;\n",
       "        /* Needs to be in here for Safari polyfill so background images work as expected. */\n",
       "        background-size: auto;\n",
       "    }\n",
       "    progress:not([value]), progress:not([value])::-webkit-progress-bar {\n",
       "        background: repeating-linear-gradient(45deg, #7e7e7e, #7e7e7e 10px, #5c5c5c 10px, #5c5c5c 20px);\n",
       "    }\n",
       "    .progress-bar-interrupted, .progress-bar-interrupted::-webkit-progress-bar {\n",
       "        background: #F44336;\n",
       "    }\n",
       "</style>\n"
      ],
      "text/plain": [
       "<IPython.core.display.HTML object>"
      ]
     },
     "metadata": {},
     "output_type": "display_data"
    },
    {
     "data": {
      "text/html": [
       "\n",
       "    <div>\n",
       "      <progress value='10' class='' max='10' style='width:300px; height:20px; vertical-align: middle;'></progress>\n",
       "      100.00% [10/10 00:00&lt;00:00 logp = -47.379, ||grad|| = 20.466]\n",
       "    </div>\n",
       "    "
      ],
      "text/plain": [
       "<IPython.core.display.HTML object>"
      ]
     },
     "metadata": {},
     "output_type": "display_data"
    },
    {
     "name": "stdout",
     "output_type": "stream",
     "text": [
      "\n",
      "N_pol: 1, Waic: 92.34323935601236 +- 25.363160568026654, penalty: 7.869117703988209\n"
     ]
    },
    {
     "data": {
      "text/html": [
       "\n",
       "<style>\n",
       "    /* Turns off some styling */\n",
       "    progress {\n",
       "        /* gets rid of default border in Firefox and Opera. */\n",
       "        border: none;\n",
       "        /* Needs to be in here for Safari polyfill so background images work as expected. */\n",
       "        background-size: auto;\n",
       "    }\n",
       "    progress:not([value]), progress:not([value])::-webkit-progress-bar {\n",
       "        background: repeating-linear-gradient(45deg, #7e7e7e, #7e7e7e 10px, #5c5c5c 10px, #5c5c5c 20px);\n",
       "    }\n",
       "    .progress-bar-interrupted, .progress-bar-interrupted::-webkit-progress-bar {\n",
       "        background: #F44336;\n",
       "    }\n",
       "</style>\n"
      ],
      "text/plain": [
       "<IPython.core.display.HTML object>"
      ]
     },
     "metadata": {},
     "output_type": "display_data"
    },
    {
     "data": {
      "text/html": [
       "\n",
       "    <div>\n",
       "      <progress value='13' class='' max='13' style='width:300px; height:20px; vertical-align: middle;'></progress>\n",
       "      100.00% [13/13 00:00&lt;00:00 logp = -38.574, ||grad|| = 0.0096619]\n",
       "    </div>\n",
       "    "
      ],
      "text/plain": [
       "<IPython.core.display.HTML object>"
      ]
     },
     "metadata": {},
     "output_type": "display_data"
    },
    {
     "name": "stdout",
     "output_type": "stream",
     "text": [
      "\n",
      "N_pol: 2, Waic: 94.28999330127895 +- 29.634523375867357, penalty: 9.945490903490281\n"
     ]
    },
    {
     "data": {
      "text/html": [
       "\n",
       "<style>\n",
       "    /* Turns off some styling */\n",
       "    progress {\n",
       "        /* gets rid of default border in Firefox and Opera. */\n",
       "        border: none;\n",
       "        /* Needs to be in here for Safari polyfill so background images work as expected. */\n",
       "        background-size: auto;\n",
       "    }\n",
       "    progress:not([value]), progress:not([value])::-webkit-progress-bar {\n",
       "        background: repeating-linear-gradient(45deg, #7e7e7e, #7e7e7e 10px, #5c5c5c 10px, #5c5c5c 20px);\n",
       "    }\n",
       "    .progress-bar-interrupted, .progress-bar-interrupted::-webkit-progress-bar {\n",
       "        background: #F44336;\n",
       "    }\n",
       "</style>\n"
      ],
      "text/plain": [
       "<IPython.core.display.HTML object>"
      ]
     },
     "metadata": {},
     "output_type": "display_data"
    },
    {
     "data": {
      "text/html": [
       "\n",
       "    <div>\n",
       "      <progress value='20' class='' max='20' style='width:300px; height:20px; vertical-align: middle;'></progress>\n",
       "      100.00% [20/20 00:00&lt;00:00 logp = -38.909, ||grad|| = 5.4409]\n",
       "    </div>\n",
       "    "
      ],
      "text/plain": [
       "<IPython.core.display.HTML object>"
      ]
     },
     "metadata": {},
     "output_type": "display_data"
    },
    {
     "name": "stdout",
     "output_type": "stream",
     "text": [
      "\n",
      "N_pol: 3, Waic: 96.23438587389074 +- 30.550132628624024, penalty: 10.966577602117185\n"
     ]
    },
    {
     "data": {
      "text/html": [
       "\n",
       "<style>\n",
       "    /* Turns off some styling */\n",
       "    progress {\n",
       "        /* gets rid of default border in Firefox and Opera. */\n",
       "        border: none;\n",
       "        /* Needs to be in here for Safari polyfill so background images work as expected. */\n",
       "        background-size: auto;\n",
       "    }\n",
       "    progress:not([value]), progress:not([value])::-webkit-progress-bar {\n",
       "        background: repeating-linear-gradient(45deg, #7e7e7e, #7e7e7e 10px, #5c5c5c 10px, #5c5c5c 20px);\n",
       "    }\n",
       "    .progress-bar-interrupted, .progress-bar-interrupted::-webkit-progress-bar {\n",
       "        background: #F44336;\n",
       "    }\n",
       "</style>\n"
      ],
      "text/plain": [
       "<IPython.core.display.HTML object>"
      ]
     },
     "metadata": {},
     "output_type": "display_data"
    },
    {
     "data": {
      "text/html": [
       "\n",
       "    <div>\n",
       "      <progress value='51' class='' max='51' style='width:300px; height:20px; vertical-align: middle;'></progress>\n",
       "      100.00% [51/51 00:00&lt;00:00 logp = -38.597, ||grad|| = 0.0028633]\n",
       "    </div>\n",
       "    "
      ],
      "text/plain": [
       "<IPython.core.display.HTML object>"
      ]
     },
     "metadata": {},
     "output_type": "display_data"
    },
    {
     "name": "stdout",
     "output_type": "stream",
     "text": [
      "\n",
      "N_pol: 4, Waic: 97.13899657102155 +- 32.123097579492786, penalty: 11.898309366015337\n"
     ]
    }
   ],
   "source": [
    "n_polynomials = np.arange(1, 5)\n",
    "taxRate = Laffer['s_taxRate'].values\n",
    "taxRevenue = Laffer['s_taxRevenue'].values\n",
    "\n",
    "for pol in n_polynomials:\n",
    "    post, vars_ = model_laffer(taxRate, taxRevenue, pol)\n",
    "    waic_, pwaic, stderr_ = waic(taxRate, taxRevenue, pol, post, vars_)\n",
    "    print(f'N_pol: {pol}, Waic: {waic_} +- {stderr_}, penalty: {pwaic.sum()}')"
   ]
  },
  {
   "cell_type": "markdown",
   "id": "dba5a6fb",
   "metadata": {},
   "source": [
    "There is no substantial difference between the modles, and the penalty seems to increase with the order of the polynomials. We should be careful with making assumptions about this."
   ]
  },
  {
   "cell_type": "code",
   "execution_count": null,
   "id": "f67fa6c7",
   "metadata": {},
   "outputs": [],
   "source": []
  }
 ],
 "metadata": {
  "kernelspec": {
   "display_name": "Python 3 (ipykernel)",
   "language": "python",
   "name": "python3"
  },
  "language_info": {
   "codemirror_mode": {
    "name": "ipython",
    "version": 3
   },
   "file_extension": ".py",
   "mimetype": "text/x-python",
   "name": "python",
   "nbconvert_exporter": "python",
   "pygments_lexer": "ipython3",
   "version": "3.10.6"
  }
 },
 "nbformat": 4,
 "nbformat_minor": 5
}
