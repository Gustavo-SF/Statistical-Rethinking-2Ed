{
 "cells": [
  {
   "cell_type": "markdown",
   "id": "b56b0647",
   "metadata": {},
   "source": [
    "# Chapter 7: Ulysses' Compass - Samples\n",
    "\n",
    "\n",
    "> <span style=\"color:blue\">OCKHAM'S RAZOR</span>. *Models with fewer assumptions are to be preferred.*\n",
    "\n",
    "We can look into two fundamental kinds of statistical errors:\n",
    "\n",
    "1. Overfitting: High variance.\n",
    "2. Underfitting: High bias.\n",
    "\n",
    "There are two ways to deal with this, we can use a <span style=\"color:blue\">REGULARIZING PRIOR</span> to calm the model down. We can also use the <span style=\"color:blue\">INFORMATION CRITERIA</span> or the <span style=\"color:blue\">CROSS-VALIDATION</span>.\n",
    "\n",
    "Before **information criteria**, we will need first to define <span style=\"color:blue\">INFORMATION THEORY</span>. \n",
    "\n",
    "We start using **information criteria** with **AIC**, **DIC**, **WAIC** and **PSIS**."
   ]
  },
  {
   "cell_type": "markdown",
   "id": "96499399",
   "metadata": {},
   "source": [
    "## 7.1 The problem with parameters.\n",
    "\n",
    "If we add too many parameters, it will improve fitting, but it will predict new data worse."
   ]
  },
  {
   "cell_type": "markdown",
   "id": "858f0ef4",
   "metadata": {},
   "source": [
    "### 7.1.1. More parameters (almost) always improve fit.\n",
    "\n",
    "We can look into one example.\n",
    "\n",
    "#### Code 7.1."
   ]
  },
  {
   "cell_type": "code",
   "execution_count": 1,
   "id": "0a90e2de",
   "metadata": {},
   "outputs": [
    {
     "data": {
      "text/html": [
       "<div>\n",
       "<style scoped>\n",
       "    .dataframe tbody tr th:only-of-type {\n",
       "        vertical-align: middle;\n",
       "    }\n",
       "\n",
       "    .dataframe tbody tr th {\n",
       "        vertical-align: top;\n",
       "    }\n",
       "\n",
       "    .dataframe thead th {\n",
       "        text-align: right;\n",
       "    }\n",
       "</style>\n",
       "<table border=\"1\" class=\"dataframe\">\n",
       "  <thead>\n",
       "    <tr style=\"text-align: right;\">\n",
       "      <th></th>\n",
       "      <th>species</th>\n",
       "      <th>brain</th>\n",
       "      <th>mass</th>\n",
       "    </tr>\n",
       "  </thead>\n",
       "  <tbody>\n",
       "    <tr>\n",
       "      <th>0</th>\n",
       "      <td>afarensis</td>\n",
       "      <td>438</td>\n",
       "      <td>37.0</td>\n",
       "    </tr>\n",
       "    <tr>\n",
       "      <th>1</th>\n",
       "      <td>africanus</td>\n",
       "      <td>452</td>\n",
       "      <td>35.5</td>\n",
       "    </tr>\n",
       "    <tr>\n",
       "      <th>2</th>\n",
       "      <td>habilis</td>\n",
       "      <td>612</td>\n",
       "      <td>34.5</td>\n",
       "    </tr>\n",
       "    <tr>\n",
       "      <th>3</th>\n",
       "      <td>boisei</td>\n",
       "      <td>521</td>\n",
       "      <td>41.5</td>\n",
       "    </tr>\n",
       "    <tr>\n",
       "      <th>4</th>\n",
       "      <td>rudolfensis</td>\n",
       "      <td>752</td>\n",
       "      <td>55.5</td>\n",
       "    </tr>\n",
       "  </tbody>\n",
       "</table>\n",
       "</div>"
      ],
      "text/plain": [
       "       species  brain  mass\n",
       "0    afarensis    438  37.0\n",
       "1    africanus    452  35.5\n",
       "2      habilis    612  34.5\n",
       "3       boisei    521  41.5\n",
       "4  rudolfensis    752  55.5"
      ]
     },
     "execution_count": 1,
     "metadata": {},
     "output_type": "execute_result"
    }
   ],
   "source": [
    "import pandas as pd\n",
    "\n",
    "d = pd.DataFrame(\n",
    "    {\n",
    "        'species': [\n",
    "            'afarensis',\n",
    "            'africanus',\n",
    "            'habilis',\n",
    "            'boisei',\n",
    "            'rudolfensis',\n",
    "            'ergaster',\n",
    "            'sapiens',\n",
    "        ],\n",
    "        'brain': [438, 452, 612, 521, 752, 871, 1350],  # volume in cc\n",
    "        'mass': [37.0, 35.5, 34.5, 41.5, 55.5, 61.0, 53.5],  # mass in kg\n",
    "    }\n",
    ")\n",
    "\n",
    "d.head()"
   ]
  },
  {
   "cell_type": "code",
   "execution_count": 2,
   "id": "cdaee7f0",
   "metadata": {},
   "outputs": [
    {
     "data": {
      "image/png": "[encoded data removed]",
      "text/plain": [
       "<Figure size 640x480 with 1 Axes>"
      ]
     },
     "metadata": {},
     "output_type": "display_data"
    }
   ],
   "source": [
    "from matplotlib import pyplot as plt\n",
    "\n",
    "\n",
    "# Figure 7.2\n",
    "plt.scatter(d['mass'], d['brain'])\n",
    "\n",
    "# point labels\n",
    "for i, r in d.iterrows():\n",
    "    if r.species == 'afarensis':\n",
    "        plt.text(r.mass + 0.5, r.brain, r.species, ha='left', va='center')\n",
    "    elif r.species == 'sapiens':\n",
    "        plt.text(r.mass, r.brain - 25, r.species, ha='center', va='top')\n",
    "    else:\n",
    "        plt.text(r.mass, r.brain + 25, r.species, ha='center')\n",
    "\n",
    "plt.xlabel('body mass (kg)')\n",
    "plt.ylabel('brain volume (cc)');"
   ]
  },
  {
   "cell_type": "markdown",
   "id": "1e263203",
   "metadata": {},
   "source": [
    "The simplest model that fits body with brain size is a linear model. We start by standardizing the variables.\n",
    "\n",
    "#### Code 7.2."
   ]
  },
  {
   "cell_type": "code",
   "execution_count": 3,
   "id": "50dfac68",
   "metadata": {},
   "outputs": [],
   "source": [
    "from rethinking import standardize\n",
    "\n",
    "mass_std = standardize(d['mass']).values\n",
    "brain_std = (d['brain'] / d['brain'].max()).values"
   ]
  },
  {
   "cell_type": "markdown",
   "id": "a13edcb1",
   "metadata": {},
   "source": [
    "Here is the mathematical version of the first linear model.\n",
    "\n",
    "$$\n",
    "\\begin{aligned}\n",
    "b_i &\\sim \\text{Normal}(\\mu_i, \\sigma) \\\\\n",
    "\\mu_i &= \\alpha + \\beta m_i \\\\\n",
    "\\alpha &\\sim \\text{Normal}(0.5, 1) \\\\\n",
    "\\beta &\\sim \\text{Normal}(0, 10) \\\\\n",
    "\\sigma &\\sim \\text{Log-Normal}(0, 1) \\\\\n",
    "\\end{aligned}\n",
    "$$"
   ]
  },
  {
   "cell_type": "markdown",
   "id": "919bd5b1",
   "metadata": {},
   "source": [
    "Let's continue to fit the model now\n",
    "\n",
    "#### Code 7.3"
   ]
  },
  {
   "cell_type": "code",
   "execution_count": 4,
   "id": "65a86c81",
   "metadata": {},
   "outputs": [
    {
     "data": {
      "text/html": [
       "\n",
       "<style>\n",
       "    /* Turns off some styling */\n",
       "    progress {\n",
       "        /* gets rid of default border in Firefox and Opera. */\n",
       "        border: none;\n",
       "        /* Needs to be in here for Safari polyfill so background images work as expected. */\n",
       "        background-size: auto;\n",
       "    }\n",
       "    progress:not([value]), progress:not([value])::-webkit-progress-bar {\n",
       "        background: repeating-linear-gradient(45deg, #7e7e7e, #7e7e7e 10px, #5c5c5c 10px, #5c5c5c 20px);\n",
       "    }\n",
       "    .progress-bar-interrupted, .progress-bar-interrupted::-webkit-progress-bar {\n",
       "        background: #F44336;\n",
       "    }\n",
       "</style>\n"
      ],
      "text/plain": [
       "<IPython.core.display.HTML object>"
      ]
     },
     "metadata": {},
     "output_type": "display_data"
    },
    {
     "data": {
      "text/html": [
       "\n",
       "    <div>\n",
       "      <progress value='17' class='' max='17' style='width:300px; height:20px; vertical-align: middle;'></progress>\n",
       "      100.00% [17/17 00:00&lt;00:00 logp = -3.6487, ||grad|| = 0.097605]\n",
       "    </div>\n",
       "    "
      ],
      "text/plain": [
       "<IPython.core.display.HTML object>"
      ]
     },
     "metadata": {},
     "output_type": "display_data"
    },
    {
     "name": "stdout",
     "output_type": "stream",
     "text": [
      "\n"
     ]
    },
    {
     "data": {
      "text/html": [
       "<div>\n",
       "<style scoped>\n",
       "    .dataframe tbody tr th:only-of-type {\n",
       "        vertical-align: middle;\n",
       "    }\n",
       "\n",
       "    .dataframe tbody tr th {\n",
       "        vertical-align: top;\n",
       "    }\n",
       "\n",
       "    .dataframe thead th {\n",
       "        text-align: right;\n",
       "    }\n",
       "</style>\n",
       "<table border=\"1\" class=\"dataframe\">\n",
       "  <thead>\n",
       "    <tr style=\"text-align: right;\">\n",
       "      <th></th>\n",
       "      <th>mean</th>\n",
       "      <th>std</th>\n",
       "      <th>5.5%</th>\n",
       "      <th>94.5%</th>\n",
       "    </tr>\n",
       "  </thead>\n",
       "  <tbody>\n",
       "    <tr>\n",
       "      <th>sigma</th>\n",
       "      <td>-1.708103</td>\n",
       "      <td>0.294959</td>\n",
       "      <td>-2.173266</td>\n",
       "      <td>-1.234499</td>\n",
       "    </tr>\n",
       "    <tr>\n",
       "      <th>b</th>\n",
       "      <td>0.167081</td>\n",
       "      <td>0.073391</td>\n",
       "      <td>0.048806</td>\n",
       "      <td>0.285621</td>\n",
       "    </tr>\n",
       "    <tr>\n",
       "      <th>a</th>\n",
       "      <td>0.527737</td>\n",
       "      <td>0.068235</td>\n",
       "      <td>0.419553</td>\n",
       "      <td>0.636587</td>\n",
       "    </tr>\n",
       "  </tbody>\n",
       "</table>\n",
       "</div>"
      ],
      "text/plain": [
       "           mean       std      5.5%     94.5%\n",
       "sigma -1.708103  0.294959 -2.173266 -1.234499\n",
       "b      0.167081  0.073391  0.048806  0.285621\n",
       "a      0.527737  0.068235  0.419553  0.636587"
      ]
     },
     "execution_count": 4,
     "metadata": {},
     "output_type": "execute_result"
    }
   ],
   "source": [
    "import pymc as pm\n",
    "import numpy as np\n",
    "from rethinking import quap, precis\n",
    "\n",
    "\n",
    "with pm.Model() as model:\n",
    "    sigma = pm.Normal('sigma', 0, 1)\n",
    "    b = pm.Normal('b', 0, 10)\n",
    "    a = pm.Normal('a', 0.5, 1)\n",
    "    mu = pm.Deterministic('mu', a + b * mass_std)\n",
    "    brain = pm.Normal('brain', mu, np.exp(sigma), observed=brain_std)\n",
    "    \n",
    "    post, vars_ = quap(model)\n",
    "\n",
    "var_names = [v.name for v in vars_]\n",
    "precis(post, var_names)"
   ]
  },
  {
   "cell_type": "markdown",
   "id": "bb5dc026",
   "metadata": {},
   "source": [
    "It is also possible to use OLS to get posterior distributions for these brain size models.\n",
    "\n",
    "#### Code 7.4"
   ]
  },
  {
   "cell_type": "code",
   "execution_count": 5,
   "id": "807d7dcd",
   "metadata": {},
   "outputs": [
    {
     "name": "stderr",
     "output_type": "stream",
     "text": [
      "/Users/gustavo-sf/Library/Caches/pypoetry/virtualenvs/rethinking-jYLlN9nu-py3.10/lib/python3.10/site-packages/statsmodels/stats/stattools.py:74: ValueWarning: omni_normtest is not valid with less than 8 observations; 7 samples were given.\n",
      "  warn(\"omni_normtest is not valid with less than 8 observations; %i \"\n"
     ]
    },
    {
     "data": {
      "text/html": [
       "<table class=\"simpletable\">\n",
       "<caption>OLS Regression Results</caption>\n",
       "<tr>\n",
       "  <th>Dep. Variable:</th>        <td>brain_std</td>    <th>  R-squared:         </th> <td>   0.490</td>\n",
       "</tr>\n",
       "<tr>\n",
       "  <th>Model:</th>                   <td>OLS</td>       <th>  Adj. R-squared:    </th> <td>   0.388</td>\n",
       "</tr>\n",
       "<tr>\n",
       "  <th>Method:</th>             <td>Least Squares</td>  <th>  F-statistic:       </th> <td>   4.807</td>\n",
       "</tr>\n",
       "<tr>\n",
       "  <th>Date:</th>             <td>Sat, 08 Oct 2022</td> <th>  Prob (F-statistic):</th>  <td>0.0798</td> \n",
       "</tr>\n",
       "<tr>\n",
       "  <th>Time:</th>                 <td>11:02:15</td>     <th>  Log-Likelihood:    </th> <td>  2.9925</td>\n",
       "</tr>\n",
       "<tr>\n",
       "  <th>No. Observations:</th>      <td>     7</td>      <th>  AIC:               </th> <td>  -1.985</td>\n",
       "</tr>\n",
       "<tr>\n",
       "  <th>Df Residuals:</th>          <td>     5</td>      <th>  BIC:               </th> <td>  -2.093</td>\n",
       "</tr>\n",
       "<tr>\n",
       "  <th>Df Model:</th>              <td>     1</td>      <th>                     </th>     <td> </td>   \n",
       "</tr>\n",
       "<tr>\n",
       "  <th>Covariance Type:</th>      <td>nonrobust</td>    <th>                     </th>     <td> </td>   \n",
       "</tr>\n",
       "</table>\n",
       "<table class=\"simpletable\">\n",
       "<tr>\n",
       "      <td></td>         <th>coef</th>     <th>std err</th>      <th>t</th>      <th>P>|t|</th>  <th>[0.025</th>    <th>0.975]</th>  \n",
       "</tr>\n",
       "<tr>\n",
       "  <th>Intercept</th> <td>    0.5287</td> <td>    0.071</td> <td>    7.492</td> <td> 0.001</td> <td>    0.347</td> <td>    0.710</td>\n",
       "</tr>\n",
       "<tr>\n",
       "  <th>mass_std</th>  <td>    0.1671</td> <td>    0.076</td> <td>    2.192</td> <td> 0.080</td> <td>   -0.029</td> <td>    0.363</td>\n",
       "</tr>\n",
       "</table>\n",
       "<table class=\"simpletable\">\n",
       "<tr>\n",
       "  <th>Omnibus:</th>       <td>   nan</td> <th>  Durbin-Watson:     </th> <td>   1.561</td>\n",
       "</tr>\n",
       "<tr>\n",
       "  <th>Prob(Omnibus):</th> <td>   nan</td> <th>  Jarque-Bera (JB):  </th> <td>   2.372</td>\n",
       "</tr>\n",
       "<tr>\n",
       "  <th>Skew:</th>          <td> 1.399</td> <th>  Prob(JB):          </th> <td>   0.305</td>\n",
       "</tr>\n",
       "<tr>\n",
       "  <th>Kurtosis:</th>      <td> 3.548</td> <th>  Cond. No.          </th> <td>    1.08</td>\n",
       "</tr>\n",
       "</table><br/><br/>Notes:<br/>[1] Standard Errors assume that the covariance matrix of the errors is correctly specified."
      ],
      "text/plain": [
       "<class 'statsmodels.iolib.summary.Summary'>\n",
       "\"\"\"\n",
       "                            OLS Regression Results                            \n",
       "==============================================================================\n",
       "Dep. Variable:              brain_std   R-squared:                       0.490\n",
       "Model:                            OLS   Adj. R-squared:                  0.388\n",
       "Method:                 Least Squares   F-statistic:                     4.807\n",
       "Date:                Sat, 08 Oct 2022   Prob (F-statistic):             0.0798\n",
       "Time:                        11:02:15   Log-Likelihood:                 2.9925\n",
       "No. Observations:                   7   AIC:                            -1.985\n",
       "Df Residuals:                       5   BIC:                            -2.093\n",
       "Df Model:                           1                                         \n",
       "Covariance Type:            nonrobust                                         \n",
       "==============================================================================\n",
       "                 coef    std err          t      P>|t|      [0.025      0.975]\n",
       "------------------------------------------------------------------------------\n",
       "Intercept      0.5287      0.071      7.492      0.001       0.347       0.710\n",
       "mass_std       0.1671      0.076      2.192      0.080      -0.029       0.363\n",
       "==============================================================================\n",
       "Omnibus:                          nan   Durbin-Watson:                   1.561\n",
       "Prob(Omnibus):                    nan   Jarque-Bera (JB):                2.372\n",
       "Skew:                           1.399   Prob(JB):                        0.305\n",
       "Kurtosis:                       3.548   Cond. No.                         1.08\n",
       "==============================================================================\n",
       "\n",
       "Notes:\n",
       "[1] Standard Errors assume that the covariance matrix of the errors is correctly specified.\n",
       "\"\"\""
      ]
     },
     "execution_count": 5,
     "metadata": {},
     "output_type": "execute_result"
    }
   ],
   "source": [
    "import statsmodels.formula.api as smf\n",
    "\n",
    "d['mass_std'] = mass_std\n",
    "d['brain_std'] = brain_std\n",
    "\n",
    "m_7_1_ols = smf.ols('brain_std ~ mass_std', data=d).fit()\n",
    "m_7_1_ols.summary()"
   ]
  },
  {
   "cell_type": "markdown",
   "id": "5ffbd1e6",
   "metadata": {},
   "source": [
    "We can code $R^2$ to check the variance explained by the model.\n",
    "\n",
    "#### Code 7.5"
   ]
  },
  {
   "cell_type": "code",
   "execution_count": 6,
   "id": "86fa7f98",
   "metadata": {},
   "outputs": [
    {
     "data": {
      "text/plain": [
       "0.49831114036660484"
      ]
     },
     "execution_count": 6,
     "metadata": {},
     "output_type": "execute_result"
    }
   ],
   "source": [
    "n_simulations = len(d)\n",
    "post_data = pd.DataFrame(post.rvs(10_000), columns=var_names)\n",
    "\n",
    "mus = post_data[['a']].to_numpy() + post_data[['b']].to_numpy() * np.tile(mass_std, (10_000, 1))\n",
    "sigmas = np.tile(np.exp(post_data['sigma']), (n_simulations, 1)).T\n",
    "\n",
    "# Simulation\n",
    "s = np.random.normal(\n",
    "    size=(10_000, n_simulations),\n",
    "    loc=mus,\n",
    "    scale=sigmas\n",
    ")\n",
    "\n",
    "r = s.mean(axis=0) - brain_std\n",
    "resid_var = np.var(r)\n",
    "outcome_var = np.var(brain_std)\n",
    "1 - resid_var / outcome_var"
   ]
  },
  {
   "cell_type": "markdown",
   "id": "5562a7ab",
   "metadata": {},
   "source": [
    "Since we will want to do this for several functions, let's write a function.\n",
    "\n",
    "#### Code 7.6"
   ]
  },
  {
   "cell_type": "code",
   "execution_count": 7,
   "id": "a33a7652",
   "metadata": {},
   "outputs": [],
   "source": [
    "def r2_is_bad(simulation, real):\n",
    "    r = simulation.mean(axis=0) - real\n",
    "    resid_var = np.var(r)\n",
    "    outcome_var = np.var(real)\n",
    "    return 1 - resid_var / outcome_var"
   ]
  },
  {
   "cell_type": "markdown",
   "id": "33252304",
   "metadata": {},
   "source": [
    "Use a polynomial.\n",
    "\n",
    "#### Code 7.7"
   ]
  },
  {
   "cell_type": "code",
   "execution_count": 8,
   "id": "3726c375",
   "metadata": {},
   "outputs": [
    {
     "data": {
      "text/html": [
       "\n",
       "<style>\n",
       "    /* Turns off some styling */\n",
       "    progress {\n",
       "        /* gets rid of default border in Firefox and Opera. */\n",
       "        border: none;\n",
       "        /* Needs to be in here for Safari polyfill so background images work as expected. */\n",
       "        background-size: auto;\n",
       "    }\n",
       "    progress:not([value]), progress:not([value])::-webkit-progress-bar {\n",
       "        background: repeating-linear-gradient(45deg, #7e7e7e, #7e7e7e 10px, #5c5c5c 10px, #5c5c5c 20px);\n",
       "    }\n",
       "    .progress-bar-interrupted, .progress-bar-interrupted::-webkit-progress-bar {\n",
       "        background: #F44336;\n",
       "    }\n",
       "</style>\n"
      ],
      "text/plain": [
       "<IPython.core.display.HTML object>"
      ]
     },
     "metadata": {},
     "output_type": "display_data"
    },
    {
     "data": {
      "text/html": [
       "\n",
       "    <div>\n",
       "      <progress value='17' class='' max='17' style='width:300px; height:20px; vertical-align: middle;'></progress>\n",
       "      100.00% [17/17 00:00&lt;00:00 logp = -6.6462, ||grad|| = 1.576]\n",
       "    </div>\n",
       "    "
      ],
      "text/plain": [
       "<IPython.core.display.HTML object>"
      ]
     },
     "metadata": {},
     "output_type": "display_data"
    },
    {
     "name": "stdout",
     "output_type": "stream",
     "text": [
      "\n"
     ]
    },
    {
     "data": {
      "text/html": [
       "<div>\n",
       "<style scoped>\n",
       "    .dataframe tbody tr th:only-of-type {\n",
       "        vertical-align: middle;\n",
       "    }\n",
       "\n",
       "    .dataframe tbody tr th {\n",
       "        vertical-align: top;\n",
       "    }\n",
       "\n",
       "    .dataframe thead th {\n",
       "        text-align: right;\n",
       "    }\n",
       "</style>\n",
       "<table border=\"1\" class=\"dataframe\">\n",
       "  <thead>\n",
       "    <tr style=\"text-align: right;\">\n",
       "      <th></th>\n",
       "      <th>mean</th>\n",
       "      <th>std</th>\n",
       "      <th>5.5%</th>\n",
       "      <th>94.5%</th>\n",
       "    </tr>\n",
       "  </thead>\n",
       "  <tbody>\n",
       "    <tr>\n",
       "      <th>sigma</th>\n",
       "      <td>-1.749197</td>\n",
       "      <td>0.291857</td>\n",
       "      <td>-2.217981</td>\n",
       "      <td>-1.283123</td>\n",
       "    </tr>\n",
       "    <tr>\n",
       "      <th>b1</th>\n",
       "      <td>0.194599</td>\n",
       "      <td>0.082324</td>\n",
       "      <td>0.063693</td>\n",
       "      <td>0.325980</td>\n",
       "    </tr>\n",
       "    <tr>\n",
       "      <th>b2</th>\n",
       "      <td>-0.096031</td>\n",
       "      <td>0.137351</td>\n",
       "      <td>-0.315270</td>\n",
       "      <td>0.122033</td>\n",
       "    </tr>\n",
       "    <tr>\n",
       "      <th>a</th>\n",
       "      <td>0.610283</td>\n",
       "      <td>0.134482</td>\n",
       "      <td>0.391387</td>\n",
       "      <td>0.822008</td>\n",
       "    </tr>\n",
       "  </tbody>\n",
       "</table>\n",
       "</div>"
      ],
      "text/plain": [
       "           mean       std      5.5%     94.5%\n",
       "sigma -1.749197  0.291857 -2.217981 -1.283123\n",
       "b1     0.194599  0.082324  0.063693  0.325980\n",
       "b2    -0.096031  0.137351 -0.315270  0.122033\n",
       "a      0.610283  0.134482  0.391387  0.822008"
      ]
     },
     "execution_count": 8,
     "metadata": {},
     "output_type": "execute_result"
    }
   ],
   "source": [
    "with pm.Model() as model:\n",
    "    sigma = pm.Normal('sigma', 0, 1)\n",
    "    b = pm.Normal('b', 0, 10, shape=2)\n",
    "    a = pm.Normal('a', 0.5, 1)\n",
    "    mu = pm.Deterministic('mu', a + b[0] * mass_std + b[1] * mass_std**2)\n",
    "    brain = pm.Normal('brain', mu, np.exp(sigma), observed=brain_std)\n",
    "    \n",
    "    post2, vars_ = quap(model)\n",
    "\n",
    "var_names = ['sigma', 'b1', 'b2', 'a']\n",
    "precis(post2, var_names)"
   ]
  },
  {
   "cell_type": "markdown",
   "id": "24599ee4",
   "metadata": {},
   "source": [
    "The next models are constructed in a similar fashion.\n",
    "\n",
    "#### Code 7.8 & 7.9"
   ]
  },
  {
   "cell_type": "code",
   "execution_count": 9,
   "id": "5a71795b",
   "metadata": {},
   "outputs": [
    {
     "data": {
      "text/html": [
       "\n",
       "<style>\n",
       "    /* Turns off some styling */\n",
       "    progress {\n",
       "        /* gets rid of default border in Firefox and Opera. */\n",
       "        border: none;\n",
       "        /* Needs to be in here for Safari polyfill so background images work as expected. */\n",
       "        background-size: auto;\n",
       "    }\n",
       "    progress:not([value]), progress:not([value])::-webkit-progress-bar {\n",
       "        background: repeating-linear-gradient(45deg, #7e7e7e, #7e7e7e 10px, #5c5c5c 10px, #5c5c5c 20px);\n",
       "    }\n",
       "    .progress-bar-interrupted, .progress-bar-interrupted::-webkit-progress-bar {\n",
       "        background: #F44336;\n",
       "    }\n",
       "</style>\n"
      ],
      "text/plain": [
       "<IPython.core.display.HTML object>"
      ]
     },
     "metadata": {},
     "output_type": "display_data"
    },
    {
     "data": {
      "text/html": [
       "\n",
       "    <div>\n",
       "      <progress value='22' class='' max='22' style='width:300px; height:20px; vertical-align: middle;'></progress>\n",
       "      100.00% [22/22 00:00&lt;00:00 logp = -8.8865, ||grad|| = 0.0010243]\n",
       "    </div>\n",
       "    "
      ],
      "text/plain": [
       "<IPython.core.display.HTML object>"
      ]
     },
     "metadata": {},
     "output_type": "display_data"
    },
    {
     "name": "stdout",
     "output_type": "stream",
     "text": [
      "\n"
     ]
    },
    {
     "data": {
      "text/html": [
       "\n",
       "<style>\n",
       "    /* Turns off some styling */\n",
       "    progress {\n",
       "        /* gets rid of default border in Firefox and Opera. */\n",
       "        border: none;\n",
       "        /* Needs to be in here for Safari polyfill so background images work as expected. */\n",
       "        background-size: auto;\n",
       "    }\n",
       "    progress:not([value]), progress:not([value])::-webkit-progress-bar {\n",
       "        background: repeating-linear-gradient(45deg, #7e7e7e, #7e7e7e 10px, #5c5c5c 10px, #5c5c5c 20px);\n",
       "    }\n",
       "    .progress-bar-interrupted, .progress-bar-interrupted::-webkit-progress-bar {\n",
       "        background: #F44336;\n",
       "    }\n",
       "</style>\n"
      ],
      "text/plain": [
       "<IPython.core.display.HTML object>"
      ]
     },
     "metadata": {},
     "output_type": "display_data"
    },
    {
     "data": {
      "text/html": [
       "\n",
       "    <div>\n",
       "      <progress value='31' class='' max='31' style='width:300px; height:20px; vertical-align: middle;'></progress>\n",
       "      100.00% [31/31 00:00&lt;00:00 logp = -10.829, ||grad|| = 0.00010378]\n",
       "    </div>\n",
       "    "
      ],
      "text/plain": [
       "<IPython.core.display.HTML object>"
      ]
     },
     "metadata": {},
     "output_type": "display_data"
    },
    {
     "name": "stdout",
     "output_type": "stream",
     "text": [
      "\n"
     ]
    },
    {
     "data": {
      "text/html": [
       "\n",
       "<style>\n",
       "    /* Turns off some styling */\n",
       "    progress {\n",
       "        /* gets rid of default border in Firefox and Opera. */\n",
       "        border: none;\n",
       "        /* Needs to be in here for Safari polyfill so background images work as expected. */\n",
       "        background-size: auto;\n",
       "    }\n",
       "    progress:not([value]), progress:not([value])::-webkit-progress-bar {\n",
       "        background: repeating-linear-gradient(45deg, #7e7e7e, #7e7e7e 10px, #5c5c5c 10px, #5c5c5c 20px);\n",
       "    }\n",
       "    .progress-bar-interrupted, .progress-bar-interrupted::-webkit-progress-bar {\n",
       "        background: #F44336;\n",
       "    }\n",
       "</style>\n"
      ],
      "text/plain": [
       "<IPython.core.display.HTML object>"
      ]
     },
     "metadata": {},
     "output_type": "display_data"
    },
    {
     "data": {
      "text/html": [
       "\n",
       "    <div>\n",
       "      <progress value='50' class='' max='50' style='width:300px; height:20px; vertical-align: middle;'></progress>\n",
       "      100.00% [50/50 00:00&lt;00:00 logp = -8.2396, ||grad|| = 1.3628]\n",
       "    </div>\n",
       "    "
      ],
      "text/plain": [
       "<IPython.core.display.HTML object>"
      ]
     },
     "metadata": {},
     "output_type": "display_data"
    },
    {
     "name": "stdout",
     "output_type": "stream",
     "text": [
      "\n"
     ]
    },
    {
     "data": {
      "text/html": [
       "\n",
       "<style>\n",
       "    /* Turns off some styling */\n",
       "    progress {\n",
       "        /* gets rid of default border in Firefox and Opera. */\n",
       "        border: none;\n",
       "        /* Needs to be in here for Safari polyfill so background images work as expected. */\n",
       "        background-size: auto;\n",
       "    }\n",
       "    progress:not([value]), progress:not([value])::-webkit-progress-bar {\n",
       "        background: repeating-linear-gradient(45deg, #7e7e7e, #7e7e7e 10px, #5c5c5c 10px, #5c5c5c 20px);\n",
       "    }\n",
       "    .progress-bar-interrupted, .progress-bar-interrupted::-webkit-progress-bar {\n",
       "        background: #F44336;\n",
       "    }\n",
       "</style>\n"
      ],
      "text/plain": [
       "<IPython.core.display.HTML object>"
      ]
     },
     "metadata": {},
     "output_type": "display_data"
    },
    {
     "data": {
      "text/html": [
       "\n",
       "    <div>\n",
       "      <progress value='71' class='' max='71' style='width:300px; height:20px; vertical-align: middle;'></progress>\n",
       "      100.00% [71/71 00:00&lt;00:00 logp = 21.579, ||grad|| = 0.030684]\n",
       "    </div>\n",
       "    "
      ],
      "text/plain": [
       "<IPython.core.display.HTML object>"
      ]
     },
     "metadata": {},
     "output_type": "display_data"
    },
    {
     "name": "stdout",
     "output_type": "stream",
     "text": [
      "\n"
     ]
    }
   ],
   "source": [
    "with pm.Model() as model:\n",
    "    sigma = pm.Normal('sigma', 0, 1)\n",
    "    b = pm.Normal('b', 0, 10, shape=3)\n",
    "    a = pm.Normal('a', 0.5, 1)\n",
    "    mu = pm.Deterministic(\n",
    "        'mu', \n",
    "        a \n",
    "        + b[0] * mass_std \n",
    "        + b[1] * mass_std**2\n",
    "        + b[2] * mass_std**3\n",
    "    )\n",
    "    brain = pm.Normal('brain', mu, np.exp(sigma), observed=brain_std)\n",
    "    \n",
    "    post3, vars_ = quap(model)\n",
    "\n",
    "with pm.Model() as model:\n",
    "    sigma = pm.Normal('sigma', 0, 1)\n",
    "    b = pm.Normal('b', 0, 10, shape=4)\n",
    "    a = pm.Normal('a', 0.5, 1)\n",
    "    mu = pm.Deterministic(\n",
    "        'mu', \n",
    "        a \n",
    "        + b[0] * mass_std \n",
    "        + b[1] * mass_std**2\n",
    "        + b[2] * mass_std**3\n",
    "        + b[3] * mass_std**4\n",
    "    )\n",
    "    brain = pm.Normal('brain', mu, np.exp(sigma), observed=brain_std)\n",
    "    \n",
    "    post4, vars_ = quap(model)\n",
    "    \n",
    "with pm.Model() as model:\n",
    "    sigma = pm.Normal('sigma', 0, 1)\n",
    "    b = pm.Normal('b', 0, 10, shape=5)\n",
    "    a = pm.Normal('a', 0.5, 1)\n",
    "    mu = pm.Deterministic(\n",
    "        'mu', \n",
    "        a \n",
    "        + b[0] * mass_std \n",
    "        + b[1] * mass_std**2\n",
    "        + b[2] * mass_std**3\n",
    "        + b[3] * mass_std**4\n",
    "        + b[4] * mass_std**5\n",
    "    )\n",
    "    brain = pm.Normal('brain', mu, np.exp(sigma), observed=brain_std)\n",
    "    \n",
    "    post5, vars_ = quap(model)\n",
    "    \n",
    "with pm.Model() as model:\n",
    "    b = pm.Normal('b', 0, 10, shape=6)\n",
    "    a = pm.Normal('a', 0.5, 1)\n",
    "    mu = pm.Deterministic(\n",
    "        'mu', \n",
    "        a \n",
    "        + b[0] * mass_std \n",
    "        + b[1] * mass_std**2\n",
    "        + b[2] * mass_std**3\n",
    "        + b[3] * mass_std**4\n",
    "        + b[4] * mass_std**5\n",
    "        + b[5] * mass_std**6\n",
    "    )\n",
    "    brain = pm.Normal('brain', mu, 0.001, observed=brain_std)\n",
    "    \n",
    "    post6, vars_ = quap(model)"
   ]
  },
  {
   "cell_type": "markdown",
   "id": "c5a083f1",
   "metadata": {},
   "source": [
    "Now we can plot everything.\n",
    "\n",
    "#### Code 7.10"
   ]
  },
  {
   "cell_type": "code",
   "execution_count": 10,
   "id": "0b6ab3e3",
   "metadata": {},
   "outputs": [
    {
     "data": {
      "image/png": "[encoded data removed]",
      "text/plain": [
       "<Figure size 640x480 with 1 Axes>"
      ]
     },
     "metadata": {},
     "output_type": "display_data"
    }
   ],
   "source": [
    "def link(posterior, seq):\n",
    "    post = posterior.rvs(size=10_000)\n",
    "    weights_seq = np.tile(seq, (10_000, 1))\n",
    "    mu = post[:, 0:1] + post[:, 1:2] * (weights_seq - d2['weight'].mean())\n",
    "    return mu\n",
    "\n",
    "post_data = post_data = pd.DataFrame(post.rvs(10_000), columns=['sigma', 'b1', 'a'])\n",
    "mass_seq = np.linspace(mass_std.min(), mass_std.max(), 100)\n",
    "mass = np.tile(mass_seq, (10_000, 1))\n",
    "l = post_data[['a']].values + post_data[['b1']].values * mass\n",
    "mu = l.mean(axis=0)\n",
    "ci = np.array([np.quantile(val, [0.055, 0.945]) for val in l.T])\n",
    "\n",
    "plt.scatter(mass_std, brain_std);\n",
    "plt.plot(mass_seq, mu)\n",
    "plt.fill_between(mass_seq, ci[:, 0], ci[:,1], alpha=0.5);"
   ]
  },
  {
   "cell_type": "markdown",
   "id": "9ee42fde",
   "metadata": {},
   "source": [
    "### 7.1.2 Too few parameters hurts, too\n",
    "\n",
    "Overfit polynomial models fit the data really well, but they suffer from within-sample accuracy. \n",
    "\n",
    "We can remove rows using code.\n",
    "\n",
    "#### Code 7.11"
   ]
  },
  {
   "cell_type": "code",
   "execution_count": 11,
   "id": "835ef5db",
   "metadata": {},
   "outputs": [],
   "source": [
    "brains_new = d.drop(d.index[-1])"
   ]
  },
  {
   "cell_type": "markdown",
   "id": "764b3ff8",
   "metadata": {},
   "source": [
    "## 7.2 Entropy and Accuracy\n",
    "\n",
    "In defining a target there are two major dimensions to worry about:"
   ]
  },
  {
   "cell_type": "markdown",
   "id": "cb058b66",
   "metadata": {},
   "source": [
    "### 7.2.1 Firing the weatherperson\n",
    "\n",
    "1. *Cost-benefit analysis*. Measure how much it costs when we are wrong.\n",
    "2. *Accuracy in context*. We still need to judge accuracy."
   ]
  },
  {
   "cell_type": "markdown",
   "id": "0fcbb0c2",
   "metadata": {},
   "source": [
    "### 7.2.1.1. *Cost and Benefits*\n",
    "\n",
    "### 7.2.1.2. *Measuring accuracy*"
   ]
  },
  {
   "cell_type": "markdown",
   "id": "3e1f022c",
   "metadata": {},
   "source": [
    "### 7.2.2 Information and Uncertainty\n",
    "\n",
    "To calculate the information entropy for the weather, suppose the true probabilities of rain and shine are $p_1 = 0.3$ and $p_2 = 0.7$.\n",
    "\n",
    "$$H(p) = -(p_1\\text{log}(p_1) + p_2\\text{log}(p_2)) \\approx 0.61$$"
   ]
  },
  {
   "cell_type": "code",
   "execution_count": 12,
   "id": "5944f352",
   "metadata": {},
   "outputs": [
    {
     "data": {
      "text/plain": [
       "0.6108643020548935"
      ]
     },
     "execution_count": 12,
     "metadata": {},
     "output_type": "execute_result"
    }
   ],
   "source": [
    "p = np.array([0.3, 0.7])\n",
    "-sum(p * np.log(p))"
   ]
  },
  {
   "cell_type": "markdown",
   "id": "b47cf0cc",
   "metadata": {},
   "source": [
    "### 7.2.3 From entropy to accuracy\n",
    "\n",
    "We need a way to quantify uncertainty. $H$ provides this.\n",
    "\n",
    "How can we use information entropy to say how far a model is from the target? The key lies in <span style=\"color:blue\">DIVERGENCE</span>:\n",
    "\n",
    "> **Divergence**: The additional uncertainty induced by using probabilities from one distribution to describe another distribution.\n",
    "\n",
    "This is often called *Kullback-Leibler divergence*.\n",
    "\n",
    "$$D_{KL}(p, q) = \\sum_ip_i(\\text{log}(p_1) - log(q_i)) = \\sum_ip_i\\text{log}\\left(\\frac{p_i}{q_i}\\right)$$"
   ]
  },
  {
   "cell_type": "markdown",
   "id": "dd1d68af",
   "metadata": {},
   "source": [
    "### 7.2.4 Estimating Divergence\n",
    "\n",
    "We don't need to know the real probability, we only need to know how closer we are to the real probability.\n",
    "\n",
    "$$S(q) = \\sum_i\\text{log}(q_i)$$\n",
    "\n",
    "We need to find the log of the average probability for each observation $i$, where the average is taken over the posterior distribution.\n",
    "\n",
    "The Bayesian version of the log-probability score is called the <span style=\"color:blue\">LOG-POINTWISE-PREDICTIVE-DENSITY</span>\n",
    "\n",
    "$$\\text{lppd}(y, \\Theta) = \\sum_i\\text{log}\\frac{1}{S}\\sum_sp(y_i, \\Theta_s)$$\n",
    "\n",
    "#### Code 7.13 & 7.14"
   ]
  },
  {
   "cell_type": "code",
   "execution_count": 13,
   "id": "28949047",
   "metadata": {},
   "outputs": [
    {
     "data": {
      "text/plain": [
       "array([ 0.61588341,  0.65392162,  0.54624486,  0.62894367,  0.46756664,\n",
       "        0.43438907, -0.8429347 ])"
      ]
     },
     "execution_count": 13,
     "metadata": {},
     "output_type": "execute_result"
    }
   ],
   "source": [
    "from scipy import stats\n",
    "from scipy.special import logsumexp\n",
    "\n",
    "post_data = pd.DataFrame(post.rvs(10_000), columns=['sigma', 'b', 'a'])\n",
    "mu = (post_data[['a']].values + post_data[['b']].values * mass_std).T\n",
    "sig = np.exp(post_data[['sigma']].values).T\n",
    "\n",
    "# Log prob is prefered so we don't have rounding problems after.\n",
    "logprob = stats.norm.logpdf(\n",
    "    brain_std.reshape(-1, 1),\n",
    "    loc=mu,\n",
    "    scale=sig\n",
    ")\n",
    "logsumexp(logprob, axis=1) - np.log(logprob.shape[1])"
   ]
  },
  {
   "cell_type": "markdown",
   "id": "ed7d684d",
   "metadata": {},
   "source": [
    "### 7.2.5 Scoring the right data.\n",
    "\n",
    "We could then do the same for the rest of the models.\n",
    "\n",
    "#### Code 7.15"
   ]
  },
  {
   "cell_type": "code",
   "execution_count": 14,
   "id": "a71c136d",
   "metadata": {},
   "outputs": [
    {
     "name": "stdout",
     "output_type": "stream",
     "text": [
      "2.5040145729735297\n",
      "2.6023066475836867\n",
      "3.717550263252461\n",
      "-5.36349552171207\n"
     ]
    }
   ],
   "source": [
    "def lppd(mu, sigma):\n",
    "    logprob = stats.norm.logpdf(\n",
    "        brain_std.reshape(-1, 1),\n",
    "        loc=mu,\n",
    "        scale=sigma\n",
    "    )\n",
    "    return logsumexp(logprob, axis=1) - np.log(logprob.shape[1])\n",
    "\n",
    "# 7.2\n",
    "post_data2 = pd.DataFrame(post2.rvs(10_000), columns=['sigma', 'b1', 'b2', 'a'])\n",
    "mu2 = (\n",
    "    post_data2[['a']].values \n",
    "    + post_data2[['b1']].values * mass_std\n",
    "    + post_data2[['b2']].values * mass_std**2\n",
    ").T\n",
    "sig2 = np.exp(post_data2[['sigma']].values).T\n",
    "\n",
    "# 7.3\n",
    "post_data3 = pd.DataFrame(post3.rvs(10_000), columns=['sigma', 'b1', 'b2', 'b3', 'a'])\n",
    "mu3 = (\n",
    "    post_data3[['a']].values \n",
    "    + post_data3[['b1']].values * mass_std\n",
    "    + post_data3[['b2']].values * mass_std**2\n",
    "    + post_data3[['b3']].values * mass_std**3\n",
    ").T\n",
    "sig3 = np.exp(post_data3[['sigma']].values).T\n",
    "\n",
    "# 7.4\n",
    "post_data4 = pd.DataFrame(post4.rvs(10_000), columns=['sigma', 'b1', 'b2', 'b3', 'b4', 'a'])\n",
    "mu4 = (\n",
    "    post_data4[['a']].values \n",
    "    + post_data4[['b1']].values * mass_std\n",
    "    + post_data4[['b2']].values * mass_std**2\n",
    "    + post_data4[['b3']].values * mass_std**3\n",
    "    + post_data4[['b4']].values * mass_std**3\n",
    ").T\n",
    "sig4 = np.exp(post_data4[['sigma']].values).T\n",
    "\n",
    "# 7.5\n",
    "# 7.6\n",
    "\n",
    "for mu_, sigma_ in zip([mu, mu2, mu3, mu4], [sig, sig2, sig3, sig4]):\n",
    "    print(sum(lppd(mu_, sigma_)))"
   ]
  },
  {
   "cell_type": "markdown",
   "id": "1e939bdc",
   "metadata": {},
   "source": [
    "Simulating training and testing.\n",
    "\n",
    "#### Code 7.16"
   ]
  },
  {
   "cell_type": "code",
   "execution_count": 15,
   "id": "aff47213",
   "metadata": {},
   "outputs": [
    {
     "name": "stdout",
     "output_type": "stream",
     "text": [
      "Num Params: 2\n"
     ]
    },
    {
     "name": "stderr",
     "output_type": "stream",
     "text": [
      "Auto-assigning NUTS sampler...\n",
      "Initializing NUTS using jitter+adapt_diag...\n",
      "Multiprocess sampling (4 chains in 4 jobs)\n",
      "NUTS: [vec_V]\n",
      "Sampling 4 chains for 1_000 tune and 1_000 draw iterations (4_000 + 4_000 draws total) took 13 seconds.\n"
     ]
    },
    {
     "name": "stdout",
     "output_type": "stream",
     "text": [
      "Results: 59.51563400848173, 78.17471294872331\n"
     ]
    },
    {
     "name": "stderr",
     "output_type": "stream",
     "text": [
      "Auto-assigning NUTS sampler...\n",
      "Initializing NUTS using jitter+adapt_diag...\n",
      "Multiprocess sampling (4 chains in 4 jobs)\n",
      "NUTS: [vec_V]\n",
      "Sampling 4 chains for 1_000 tune and 1_000 draw iterations (4_000 + 4_000 draws total) took 13 seconds.\n"
     ]
    },
    {
     "name": "stdout",
     "output_type": "stream",
     "text": [
      "Results: 75.11708285057902, 68.74023245876229\n"
     ]
    },
    {
     "name": "stderr",
     "output_type": "stream",
     "text": [
      "Auto-assigning NUTS sampler...\n",
      "Initializing NUTS using jitter+adapt_diag...\n",
      "Multiprocess sampling (4 chains in 4 jobs)\n",
      "NUTS: [vec_V]\n",
      "Sampling 4 chains for 1_000 tune and 1_000 draw iterations (4_000 + 4_000 draws total) took 13 seconds.\n",
      "Auto-assigning NUTS sampler...\n",
      "Initializing NUTS using jitter+adapt_diag...\n"
     ]
    },
    {
     "name": "stdout",
     "output_type": "stream",
     "text": [
      "Results: 73.48009135174787, 81.22124380982854\n"
     ]
    },
    {
     "name": "stderr",
     "output_type": "stream",
     "text": [
      "Multiprocess sampling (4 chains in 4 jobs)\n",
      "NUTS: [vec_V]\n",
      "Sampling 4 chains for 1_000 tune and 1_000 draw iterations (4_000 + 4_000 draws total) took 13 seconds.\n",
      "Auto-assigning NUTS sampler...\n",
      "Initializing NUTS using jitter+adapt_diag...\n"
     ]
    },
    {
     "name": "stdout",
     "output_type": "stream",
     "text": [
      "Results: 58.0604332159555, 83.31769785143584\n",
      "Num Params: 3\n"
     ]
    },
    {
     "name": "stderr",
     "output_type": "stream",
     "text": [
      "Multiprocess sampling (4 chains in 4 jobs)\n",
      "NUTS: [vec_V]\n",
      "Sampling 4 chains for 1_000 tune and 1_000 draw iterations (4_000 + 4_000 draws total) took 11 seconds.\n"
     ]
    },
    {
     "name": "stdout",
     "output_type": "stream",
     "text": [
      "Results: 58.47084066116705, 83.17407465753142\n"
     ]
    },
    {
     "name": "stderr",
     "output_type": "stream",
     "text": [
      "Auto-assigning NUTS sampler...\n",
      "Initializing NUTS using jitter+adapt_diag...\n",
      "Multiprocess sampling (4 chains in 4 jobs)\n",
      "NUTS: [vec_V]\n",
      "Sampling 4 chains for 1_000 tune and 1_000 draw iterations (4_000 + 4_000 draws total) took 11 seconds.\n",
      "Auto-assigning NUTS sampler...\n",
      "Initializing NUTS using jitter+adapt_diag...\n"
     ]
    },
    {
     "name": "stdout",
     "output_type": "stream",
     "text": [
      "Results: 78.80300716997264, 66.43844508025407\n"
     ]
    },
    {
     "name": "stderr",
     "output_type": "stream",
     "text": [
      "Multiprocess sampling (4 chains in 4 jobs)\n",
      "NUTS: [vec_V]\n",
      "Sampling 4 chains for 1_000 tune and 1_000 draw iterations (4_000 + 4_000 draws total) took 11 seconds.\n",
      "Auto-assigning NUTS sampler...\n",
      "Initializing NUTS using jitter+adapt_diag...\n"
     ]
    },
    {
     "name": "stdout",
     "output_type": "stream",
     "text": [
      "Results: 72.8078962909426, 78.93795604727994\n"
     ]
    },
    {
     "name": "stderr",
     "output_type": "stream",
     "text": [
      "Multiprocess sampling (4 chains in 4 jobs)\n",
      "NUTS: [vec_V]\n",
      "Sampling 4 chains for 1_000 tune and 1_000 draw iterations (4_000 + 4_000 draws total) took 11 seconds.\n"
     ]
    },
    {
     "name": "stdout",
     "output_type": "stream",
     "text": [
      "Results: 63.909639099643265, 85.59575082664601\n",
      "Num Params: 4\n"
     ]
    },
    {
     "name": "stderr",
     "output_type": "stream",
     "text": [
      "Auto-assigning NUTS sampler...\n",
      "Initializing NUTS using jitter+adapt_diag...\n",
      "Multiprocess sampling (4 chains in 4 jobs)\n",
      "NUTS: [vec_V]\n",
      "Sampling 4 chains for 1_000 tune and 1_000 draw iterations (4_000 + 4_000 draws total) took 11 seconds.\n"
     ]
    },
    {
     "name": "stdout",
     "output_type": "stream",
     "text": [
      "Results: 61.43419046992234, 61.35581046243776\n"
     ]
    },
    {
     "name": "stderr",
     "output_type": "stream",
     "text": [
      "Auto-assigning NUTS sampler...\n",
      "Initializing NUTS using jitter+adapt_diag...\n",
      "Multiprocess sampling (4 chains in 4 jobs)\n",
      "NUTS: [vec_V]\n",
      "Sampling 4 chains for 1_000 tune and 1_000 draw iterations (4_000 + 4_000 draws total) took 11 seconds.\n",
      "Auto-assigning NUTS sampler...\n",
      "Initializing NUTS using jitter+adapt_diag...\n"
     ]
    },
    {
     "name": "stdout",
     "output_type": "stream",
     "text": [
      "Results: 82.7697238178778, 70.97116360054838\n"
     ]
    },
    {
     "name": "stderr",
     "output_type": "stream",
     "text": [
      "Multiprocess sampling (4 chains in 4 jobs)\n",
      "NUTS: [vec_V]\n",
      "Sampling 4 chains for 1_000 tune and 1_000 draw iterations (4_000 + 4_000 draws total) took 11 seconds.\n",
      "Auto-assigning NUTS sampler...\n",
      "Initializing NUTS using jitter+adapt_diag...\n"
     ]
    },
    {
     "name": "stdout",
     "output_type": "stream",
     "text": [
      "Results: 80.73280578121017, 86.33271419608754\n"
     ]
    },
    {
     "name": "stderr",
     "output_type": "stream",
     "text": [
      "Multiprocess sampling (4 chains in 4 jobs)\n",
      "NUTS: [vec_V]\n",
      "Sampling 4 chains for 1_000 tune and 1_000 draw iterations (4_000 + 4_000 draws total) took 11 seconds.\n",
      "Auto-assigning NUTS sampler...\n",
      "Initializing NUTS using jitter+adapt_diag...\n"
     ]
    },
    {
     "name": "stdout",
     "output_type": "stream",
     "text": [
      "Results: 78.81513203410002, 56.34003547475059\n",
      "Num Params: 5\n"
     ]
    },
    {
     "name": "stderr",
     "output_type": "stream",
     "text": [
      "Multiprocess sampling (4 chains in 4 jobs)\n",
      "NUTS: [vec_V]\n",
      "Sampling 4 chains for 1_000 tune and 1_000 draw iterations (4_000 + 4_000 draws total) took 11 seconds.\n",
      "Auto-assigning NUTS sampler...\n",
      "Initializing NUTS using jitter+adapt_diag...\n"
     ]
    },
    {
     "name": "stdout",
     "output_type": "stream",
     "text": [
      "Results: 76.90880726677918, 56.43884597794543\n"
     ]
    },
    {
     "name": "stderr",
     "output_type": "stream",
     "text": [
      "Multiprocess sampling (4 chains in 4 jobs)\n",
      "NUTS: [vec_V]\n",
      "Sampling 4 chains for 1_000 tune and 1_000 draw iterations (4_000 + 4_000 draws total) took 11 seconds.\n",
      "Auto-assigning NUTS sampler...\n",
      "Initializing NUTS using jitter+adapt_diag...\n"
     ]
    },
    {
     "name": "stdout",
     "output_type": "stream",
     "text": [
      "Results: 71.07221767367777, 75.09686288630465\n"
     ]
    },
    {
     "name": "stderr",
     "output_type": "stream",
     "text": [
      "Multiprocess sampling (4 chains in 4 jobs)\n",
      "NUTS: [vec_V]\n",
      "Sampling 4 chains for 1_000 tune and 1_000 draw iterations (4_000 + 4_000 draws total) took 11 seconds.\n"
     ]
    },
    {
     "name": "stdout",
     "output_type": "stream",
     "text": [
      "Results: 69.19831989422872, 74.7423245148388\n"
     ]
    },
    {
     "name": "stderr",
     "output_type": "stream",
     "text": [
      "Auto-assigning NUTS sampler...\n",
      "Initializing NUTS using jitter+adapt_diag...\n",
      "Multiprocess sampling (4 chains in 4 jobs)\n",
      "NUTS: [vec_V]\n",
      "Sampling 4 chains for 1_000 tune and 1_000 draw iterations (4_000 + 4_000 draws total) took 11 seconds.\n",
      "Auto-assigning NUTS sampler...\n",
      "Initializing NUTS using jitter+adapt_diag...\n"
     ]
    },
    {
     "name": "stdout",
     "output_type": "stream",
     "text": [
      "Results: 67.04809830073341, 60.922843691590955\n",
      "Num Params: 6\n"
     ]
    },
    {
     "name": "stderr",
     "output_type": "stream",
     "text": [
      "Multiprocess sampling (4 chains in 4 jobs)\n",
      "NUTS: [vec_V]\n",
      "Sampling 4 chains for 1_000 tune and 1_000 draw iterations (4_000 + 4_000 draws total) took 11 seconds.\n"
     ]
    },
    {
     "name": "stdout",
     "output_type": "stream",
     "text": [
      "Results: 75.74237763532733, 67.21247465223082\n"
     ]
    },
    {
     "name": "stderr",
     "output_type": "stream",
     "text": [
      "Auto-assigning NUTS sampler...\n",
      "Initializing NUTS using jitter+adapt_diag...\n",
      "Multiprocess sampling (4 chains in 4 jobs)\n",
      "NUTS: [vec_V]\n",
      "Sampling 4 chains for 1_000 tune and 1_000 draw iterations (4_000 + 4_000 draws total) took 11 seconds.\n",
      "Auto-assigning NUTS sampler...\n",
      "Initializing NUTS using jitter+adapt_diag...\n"
     ]
    },
    {
     "name": "stdout",
     "output_type": "stream",
     "text": [
      "Results: 61.20548706527978, 60.15235195908864\n"
     ]
    },
    {
     "name": "stderr",
     "output_type": "stream",
     "text": [
      "Multiprocess sampling (4 chains in 4 jobs)\n",
      "NUTS: [vec_V]\n",
      "Sampling 4 chains for 1_000 tune and 1_000 draw iterations (4_000 + 4_000 draws total) took 11 seconds.\n"
     ]
    },
    {
     "name": "stdout",
     "output_type": "stream",
     "text": [
      "Results: 64.53314947896001, 68.53745048778521\n"
     ]
    },
    {
     "name": "stderr",
     "output_type": "stream",
     "text": [
      "Auto-assigning NUTS sampler...\n",
      "Initializing NUTS using jitter+adapt_diag...\n",
      "Multiprocess sampling (4 chains in 4 jobs)\n",
      "NUTS: [vec_V]\n",
      "Sampling 4 chains for 1_000 tune and 1_000 draw iterations (4_000 + 4_000 draws total) took 11 seconds.\n"
     ]
    },
    {
     "name": "stdout",
     "output_type": "stream",
     "text": [
      "Results: 73.65042145763461, 72.28368361561104\n"
     ]
    }
   ],
   "source": [
    "import arviz as az\n",
    "\n",
    "def sim_train_test(N=20, k=3, rho=[0.15, -0.4], b_sigma=100, samples=1000):\n",
    "\n",
    "    n_dim = 1 + len(rho)\n",
    "    if n_dim < k:\n",
    "        n_dim = k\n",
    "    Rho = np.diag(np.ones(n_dim))\n",
    "    Rho[0, 1:3:1] = rho\n",
    "    i_lower = np.tril_indices(n_dim, -1)\n",
    "    Rho[i_lower] = Rho.T[i_lower]\n",
    "\n",
    "    x_train = stats.multivariate_normal.rvs(cov=Rho, size=N)\n",
    "    x_test = stats.multivariate_normal.rvs(cov=Rho, size=N)\n",
    "\n",
    "    mm_train = np.ones((N, 1))\n",
    "    np.concatenate([mm_train, x_train[:, 1:k]], axis=1)\n",
    "\n",
    "    # Using pymc\n",
    "    with pm.Model() as m_sim:\n",
    "        vec_V = pm.MvNormal(\n",
    "            'vec_V',\n",
    "            mu=0,\n",
    "            cov=b_sigma * np.eye(n_dim),\n",
    "            shape=(1, n_dim),\n",
    "            initval=np.random.randn(1, n_dim) * 0.01,\n",
    "        )\n",
    "        mu = pm.Deterministic('mu', 0 + pm.math.dot(x_train, vec_V.T))\n",
    "        y = pm.Normal('y', mu=mu, sigma=1, observed=x_train[:, 0].reshape(-1, 1))\n",
    "\n",
    "    with m_sim:\n",
    "        trace_m_sim = pm.sample(samples, progressbar=False)\n",
    "\n",
    "    vec = az.summary(trace_m_sim)['mean'][:n_dim]\n",
    "    vec = np.array([i for i in vec]).reshape(n_dim, -1)\n",
    "    dev_train = -2 * sum(stats.norm.logpdf(x_train, loc=np.matmul(x_train, vec), scale=1))\n",
    "    mm_test = np.ones((N, 1))\n",
    "    mm_test = np.concatenate([mm_test, x_test[:, 1 : k + 1]], axis=1)\n",
    "    dev_test = -2 * sum(stats.norm.logpdf(x_test[:, 0], loc=np.matmul(mm_test, vec), scale=1))\n",
    "    return np.mean(dev_train), np.mean(dev_test)\n",
    "\n",
    "# This cell is expected have a long run time\n",
    "n = 20\n",
    "tries = 4\n",
    "num_param = np.arange(2, 7)\n",
    "r = np.zeros(shape=(len(num_param), 4))\n",
    "\n",
    "for k in num_param:\n",
    "    print(f'Num Params: {k}')\n",
    "    \n",
    "    train = []\n",
    "    test = []\n",
    "    for _ in range(tries):\n",
    "        tr, te = sim_train_test(N=n, k=k, samples=1000)\n",
    "        print(f'Results: {tr}, {te}')\n",
    "        train.append(tr), test.append(te)\n",
    "        \n",
    "    r[k - 2, :] = (\n",
    "        np.mean(train),\n",
    "        np.std(train, ddof=1),\n",
    "        np.mean(test),\n",
    "        np.std(test, ddof=1),\n",
    "    )                           "
   ]
  },
  {
   "cell_type": "markdown",
   "id": "948db5ec",
   "metadata": {},
   "source": [
    "#### Code 7.18\n",
    "\n",
    "Let's plot."
   ]
  },
  {
   "cell_type": "code",
   "execution_count": 16,
   "id": "060c352c",
   "metadata": {},
   "outputs": [
    {
     "data": {
      "text/plain": [
       "([<matplotlib.axis.XTick at 0x175fb3d00>,\n",
       "  <matplotlib.axis.XTick at 0x175fb2a40>,\n",
       "  <matplotlib.axis.XTick at 0x175fb1e40>,\n",
       "  <matplotlib.axis.XTick at 0x175620d90>,\n",
       "  <matplotlib.axis.XTick at 0x1776584f0>],\n",
       " [Text(0, 0, ''),\n",
       "  Text(0, 0, ''),\n",
       "  Text(0, 0, ''),\n",
       "  Text(0, 0, ''),\n",
       "  Text(0, 0, '')])"
      ]
     },
     "execution_count": 16,
     "metadata": {},
     "output_type": "execute_result"
    },
    {
     "data": {
      "image/png": "[encoded data removed]",
      "text/plain": [
       "<Figure size 1000x600 with 1 Axes>"
      ]
     },
     "metadata": {},
     "output_type": "display_data"
    }
   ],
   "source": [
    "plt.figure(figsize=(10, 6))\n",
    "plt.scatter(num_param, r[:, 0], color=\"C0\")\n",
    "plt.xticks(num_param)"
   ]
  },
  {
   "cell_type": "code",
   "execution_count": 17,
   "id": "7b83c5f9",
   "metadata": {},
   "outputs": [
    {
     "data": {
      "image/png": "[encoded data removed]",
      "text/plain": [
       "<Figure size 1000x600 with 1 Axes>"
      ]
     },
     "metadata": {},
     "output_type": "display_data"
    }
   ],
   "source": [
    "plt.figure(figsize=(10, 6))\n",
    "plt.scatter(num_param, r[:, 0], color=\"C0\")\n",
    "plt.xticks(num_param)\n",
    "\n",
    "for j in range(len(num_param)):\n",
    "    plt.vlines(\n",
    "        num_param[j],\n",
    "        r[j, 0] - r[j, 1],\n",
    "        r[j, 0] + r[j, 1],\n",
    "        color=\"mediumblue\",\n",
    "        zorder=-1,\n",
    "        alpha=0.80,\n",
    "    )\n",
    "\n",
    "plt.scatter(num_param + 0.1, r[:, 2], facecolors=\"none\", edgecolors=\"k\")\n",
    "\n",
    "for j in range(len(num_param)):\n",
    "    plt.vlines(\n",
    "        num_param[j] + 0.1,\n",
    "        r[j, 2] - r[j, 3],\n",
    "        r[j, 2] + r[j, 3],\n",
    "        color=\"k\",\n",
    "        zorder=-2,\n",
    "        alpha=0.70,\n",
    "    )\n",
    "\n",
    "dist = 0.20\n",
    "plt.text(num_param[1] - dist, r[1, 0] - dist, \"in\", color=\"C0\", fontsize=13)\n",
    "plt.text(num_param[1] + dist, r[1, 2] - dist, \"out\", color=\"k\", fontsize=13)\n",
    "plt.text(num_param[1] + dist, r[1, 2] + r[1, 3] - dist, \"+1 SD\", color=\"k\", fontsize=10)\n",
    "plt.text(num_param[1] + dist, r[1, 2] - r[1, 3] - dist, \"+1 SD\", color=\"k\", fontsize=10)\n",
    "plt.xlabel(\"Number of parameters\", fontsize=14)\n",
    "plt.ylabel(\"Deviance\", fontsize=14)\n",
    "plt.title(f\"N = {n}\", fontsize=14)\n",
    "plt.show()"
   ]
  },
  {
   "cell_type": "markdown",
   "id": "606c32f6",
   "metadata": {},
   "source": [
    "Both *Cross Validation* and *Information Criteria* produce very similar results.\n",
    "\n",
    "### 7.4.1 Cross-Validaiton\n",
    "\n",
    "A very common one to use: <span style=\"color:blue\">LEAVE-ONE-OUT-CV</span> or LOOCV.\n",
    "\n",
    "<span style=\"color:blue\">PSIS</span>: Is an approximation of the CV Score by using weights. It also uses the Paretto's distribution to smooth the weights.\n",
    "\n",
    "$$s_{\\text{PSIS}} = \\sqrt{N\\text{var}(\\text{psis}_i)}$$"
   ]
  },
  {
   "cell_type": "markdown",
   "id": "71f06507",
   "metadata": {},
   "source": [
    "### 7.4.2 Information criteria\n",
    "\n",
    "<span style=\"color:blue\">AIC</span>: Historical information criterion, that uses the number of parameters to show the potential divergence of a model.\n",
    "\n",
    "$$\\text{AIC} = D_{\\text{train}} + 2p = -2\\text{lppd} + 2p$$\n",
    "\n",
    "<span style=\"color:blue\">DIC</span>: Better with informative priors, but assumes multivariate Normal distribution and N to be much bigger than k.\n",
    "\n",
    "<span style=\"color:blue\">WAIC</span>: More general than AIC and DIC, makes no assumption of the shape of the posterior.\n",
    "\n",
    "$$\\text{WAIC}(y,\\Theta) == -2(\\text{lppd} - \\sum_i \\text{var}_\\theta \\text{log} p(y_i, \\theta))$$\n",
    "\n",
    "Let's go throught he calculations.\n",
    "\n",
    "#### Code 7.19 - 7.24"
   ]
  },
  {
   "cell_type": "code",
   "execution_count": 18,
   "id": "0381fa92",
   "metadata": {},
   "outputs": [
    {
     "data": {
      "text/html": [
       "\n",
       "<style>\n",
       "    /* Turns off some styling */\n",
       "    progress {\n",
       "        /* gets rid of default border in Firefox and Opera. */\n",
       "        border: none;\n",
       "        /* Needs to be in here for Safari polyfill so background images work as expected. */\n",
       "        background-size: auto;\n",
       "    }\n",
       "    progress:not([value]), progress:not([value])::-webkit-progress-bar {\n",
       "        background: repeating-linear-gradient(45deg, #7e7e7e, #7e7e7e 10px, #5c5c5c 10px, #5c5c5c 20px);\n",
       "    }\n",
       "    .progress-bar-interrupted, .progress-bar-interrupted::-webkit-progress-bar {\n",
       "        background: #F44336;\n",
       "    }\n",
       "</style>\n"
      ],
      "text/plain": [
       "<IPython.core.display.HTML object>"
      ]
     },
     "metadata": {},
     "output_type": "display_data"
    },
    {
     "data": {
      "text/html": [
       "\n",
       "    <div>\n",
       "      <progress value='33' class='' max='33' style='width:300px; height:20px; vertical-align: middle;'></progress>\n",
       "      100.00% [33/33 00:00&lt;00:00 logp = -229.56, ||grad|| = 0.13009]\n",
       "    </div>\n",
       "    "
      ],
      "text/plain": [
       "<IPython.core.display.HTML object>"
      ]
     },
     "metadata": {},
     "output_type": "display_data"
    },
    {
     "name": "stdout",
     "output_type": "stream",
     "text": [
      "\n"
     ]
    },
    {
     "data": {
      "text/html": [
       "<div>\n",
       "<style scoped>\n",
       "    .dataframe tbody tr th:only-of-type {\n",
       "        vertical-align: middle;\n",
       "    }\n",
       "\n",
       "    .dataframe tbody tr th {\n",
       "        vertical-align: top;\n",
       "    }\n",
       "\n",
       "    .dataframe thead th {\n",
       "        text-align: right;\n",
       "    }\n",
       "</style>\n",
       "<table border=\"1\" class=\"dataframe\">\n",
       "  <thead>\n",
       "    <tr style=\"text-align: right;\">\n",
       "      <th></th>\n",
       "      <th>mean</th>\n",
       "      <th>std</th>\n",
       "      <th>5.5%</th>\n",
       "      <th>94.5%</th>\n",
       "    </tr>\n",
       "  </thead>\n",
       "  <tbody>\n",
       "    <tr>\n",
       "      <th>sigma</th>\n",
       "      <td>13.384978</td>\n",
       "      <td>0.084714</td>\n",
       "      <td>13.248861</td>\n",
       "      <td>13.519775</td>\n",
       "    </tr>\n",
       "    <tr>\n",
       "      <th>b</th>\n",
       "      <td>3.923574</td>\n",
       "      <td>0.358522</td>\n",
       "      <td>3.346917</td>\n",
       "      <td>4.501348</td>\n",
       "    </tr>\n",
       "    <tr>\n",
       "      <th>a</th>\n",
       "      <td>-17.443729</td>\n",
       "      <td>5.816274</td>\n",
       "      <td>-26.736764</td>\n",
       "      <td>-8.142407</td>\n",
       "    </tr>\n",
       "  </tbody>\n",
       "</table>\n",
       "</div>"
      ],
      "text/plain": [
       "            mean       std       5.5%      94.5%\n",
       "sigma  13.384978  0.084714  13.248861  13.519775\n",
       "b       3.923574  0.358522   3.346917   4.501348\n",
       "a     -17.443729  5.816274 -26.736764  -8.142407"
      ]
     },
     "execution_count": 18,
     "metadata": {},
     "output_type": "execute_result"
    }
   ],
   "source": [
    "from rethinking import DATA_PATH\n",
    "\n",
    "cars = pd.read_csv(DATA_PATH.joinpath('cars.csv'), usecols=[1,2])\n",
    "speed = cars['speed'].values\n",
    "dist_o = cars['dist'].values\n",
    "\n",
    "with pm.Model() as model:\n",
    "    sigma = pm.Exponential('sigma', 1)\n",
    "    b = pm.Normal('b', 0, 10)\n",
    "    a = pm.Normal('a', 0, 100)\n",
    "    mu = pm.Deterministic('mu', a + b * speed)\n",
    "    dist = pm.Normal('dist', mu, sigma, observed=dist_o)\n",
    "    \n",
    "    post, vars_ = quap(model)\n",
    "\n",
    "var_names = [var.name for var in vars_]\n",
    "precis(post, var_names)"
   ]
  },
  {
   "cell_type": "code",
   "execution_count": 19,
   "id": "295d9e5b",
   "metadata": {},
   "outputs": [
    {
     "data": {
      "text/plain": [
       "419.41343378352707"
      ]
     },
     "execution_count": 19,
     "metadata": {},
     "output_type": "execute_result"
    }
   ],
   "source": [
    "post_data = pd.DataFrame(post.rvs(10_000), columns=['sigma', 'b', 'a'])\n",
    "mu = (post_data[['a']].values + post_data[['b']].values * speed).T\n",
    "sig = post_data[['sigma']].values.T\n",
    "\n",
    "\n",
    "logprob = stats.norm.logpdf(\n",
    "    dist_o.reshape(-1, 1),\n",
    "    loc=mu,\n",
    "    scale=sig\n",
    ")\n",
    "\n",
    "n_cases = len(cars)\n",
    "\n",
    "lppd = logsumexp(logprob, axis=1) - np.log(10_000)\n",
    "pWAIC = logprob.var(axis=1)\n",
    "-2*(lppd.sum() - pWAIC.sum())"
   ]
  },
  {
   "cell_type": "code",
   "execution_count": 20,
   "id": "01861ccd",
   "metadata": {},
   "outputs": [
    {
     "data": {
      "text/plain": [
       "15.98862895110272"
      ]
     },
     "execution_count": 20,
     "metadata": {},
     "output_type": "execute_result"
    }
   ],
   "source": [
    "waic_vec = -2 * (lppd - pWAIC)\n",
    "(n_cases * waic_vec.var())**0.5"
   ]
  },
  {
   "cell_type": "markdown",
   "id": "4c23e6b8",
   "metadata": {},
   "source": [
    "## Model comparison\n",
    "\n",
    "Instead of selecting models, we can compare them to get a better idea of model prediction power and do causal inference.\n",
    "\n",
    "#### Code 7.25"
   ]
  },
  {
   "cell_type": "code",
   "execution_count": 43,
   "id": "86e524e6",
   "metadata": {},
   "outputs": [
    {
     "data": {
      "text/html": [
       "\n",
       "<style>\n",
       "    /* Turns off some styling */\n",
       "    progress {\n",
       "        /* gets rid of default border in Firefox and Opera. */\n",
       "        border: none;\n",
       "        /* Needs to be in here for Safari polyfill so background images work as expected. */\n",
       "        background-size: auto;\n",
       "    }\n",
       "    progress:not([value]), progress:not([value])::-webkit-progress-bar {\n",
       "        background: repeating-linear-gradient(45deg, #7e7e7e, #7e7e7e 10px, #5c5c5c 10px, #5c5c5c 20px);\n",
       "    }\n",
       "    .progress-bar-interrupted, .progress-bar-interrupted::-webkit-progress-bar {\n",
       "        background: #F44336;\n",
       "    }\n",
       "</style>\n"
      ],
      "text/plain": [
       "<IPython.core.display.HTML object>"
      ]
     },
     "metadata": {},
     "output_type": "display_data"
    },
    {
     "data": {
      "text/html": [
       "\n",
       "    <div>\n",
       "      <progress value='12' class='' max='12' style='width:300px; height:20px; vertical-align: middle;'></progress>\n",
       "      100.00% [12/12 00:00&lt;00:00 logp = -207.15, ||grad|| = 0.010542]\n",
       "    </div>\n",
       "    "
      ],
      "text/plain": [
       "<IPython.core.display.HTML object>"
      ]
     },
     "metadata": {},
     "output_type": "display_data"
    },
    {
     "name": "stdout",
     "output_type": "stream",
     "text": [
      "\n"
     ]
    },
    {
     "name": "stderr",
     "output_type": "stream",
     "text": [
      "Auto-assigning NUTS sampler...\n",
      "Initializing NUTS using jitter+adapt_diag...\n",
      "Multiprocess sampling (4 chains in 4 jobs)\n",
      "NUTS: [p, sigma]\n"
     ]
    },
    {
     "data": {
      "text/html": [
       "\n",
       "<style>\n",
       "    /* Turns off some styling */\n",
       "    progress {\n",
       "        /* gets rid of default border in Firefox and Opera. */\n",
       "        border: none;\n",
       "        /* Needs to be in here for Safari polyfill so background images work as expected. */\n",
       "        background-size: auto;\n",
       "    }\n",
       "    progress:not([value]), progress:not([value])::-webkit-progress-bar {\n",
       "        background: repeating-linear-gradient(45deg, #7e7e7e, #7e7e7e 10px, #5c5c5c 10px, #5c5c5c 20px);\n",
       "    }\n",
       "    .progress-bar-interrupted, .progress-bar-interrupted::-webkit-progress-bar {\n",
       "        background: #F44336;\n",
       "    }\n",
       "</style>\n"
      ],
      "text/plain": [
       "<IPython.core.display.HTML object>"
      ]
     },
     "metadata": {},
     "output_type": "display_data"
    },
    {
     "data": {
      "text/html": [
       "\n",
       "    <div>\n",
       "      <progress value='8000' class='' max='8000' style='width:300px; height:20px; vertical-align: middle;'></progress>\n",
       "      100.00% [8000/8000 00:01&lt;00:00 Sampling 4 chains, 0 divergences]\n",
       "    </div>\n",
       "    "
      ],
      "text/plain": [
       "<IPython.core.display.HTML object>"
      ]
     },
     "metadata": {},
     "output_type": "display_data"
    },
    {
     "name": "stderr",
     "output_type": "stream",
     "text": [
      "Sampling 4 chains for 1_000 tune and 1_000 draw iterations (4_000 + 4_000 draws total) took 10 seconds.\n"
     ]
    },
    {
     "data": {
      "text/html": [
       "\n",
       "<style>\n",
       "    /* Turns off some styling */\n",
       "    progress {\n",
       "        /* gets rid of default border in Firefox and Opera. */\n",
       "        border: none;\n",
       "        /* Needs to be in here for Safari polyfill so background images work as expected. */\n",
       "        background-size: auto;\n",
       "    }\n",
       "    progress:not([value]), progress:not([value])::-webkit-progress-bar {\n",
       "        background: repeating-linear-gradient(45deg, #7e7e7e, #7e7e7e 10px, #5c5c5c 10px, #5c5c5c 20px);\n",
       "    }\n",
       "    .progress-bar-interrupted, .progress-bar-interrupted::-webkit-progress-bar {\n",
       "        background: #F44336;\n",
       "    }\n",
       "</style>\n"
      ],
      "text/plain": [
       "<IPython.core.display.HTML object>"
      ]
     },
     "metadata": {},
     "output_type": "display_data"
    },
    {
     "data": {
      "text/html": [
       "\n",
       "    <div>\n",
       "      <progress value='23' class='' max='23' style='width:300px; height:20px; vertical-align: middle;'></progress>\n",
       "      100.00% [23/23 00:00&lt;00:00 logp = -187.84, ||grad|| = 0.37328]\n",
       "    </div>\n",
       "    "
      ],
      "text/plain": [
       "<IPython.core.display.HTML object>"
      ]
     },
     "metadata": {},
     "output_type": "display_data"
    },
    {
     "name": "stdout",
     "output_type": "stream",
     "text": [
      "\n"
     ]
    },
    {
     "name": "stderr",
     "output_type": "stream",
     "text": [
      "Auto-assigning NUTS sampler...\n",
      "Initializing NUTS using jitter+adapt_diag...\n",
      "Multiprocess sampling (4 chains in 4 jobs)\n",
      "NUTS: [a, bt, bf, sigma]\n"
     ]
    },
    {
     "data": {
      "text/html": [
       "\n",
       "<style>\n",
       "    /* Turns off some styling */\n",
       "    progress {\n",
       "        /* gets rid of default border in Firefox and Opera. */\n",
       "        border: none;\n",
       "        /* Needs to be in here for Safari polyfill so background images work as expected. */\n",
       "        background-size: auto;\n",
       "    }\n",
       "    progress:not([value]), progress:not([value])::-webkit-progress-bar {\n",
       "        background: repeating-linear-gradient(45deg, #7e7e7e, #7e7e7e 10px, #5c5c5c 10px, #5c5c5c 20px);\n",
       "    }\n",
       "    .progress-bar-interrupted, .progress-bar-interrupted::-webkit-progress-bar {\n",
       "        background: #F44336;\n",
       "    }\n",
       "</style>\n"
      ],
      "text/plain": [
       "<IPython.core.display.HTML object>"
      ]
     },
     "metadata": {},
     "output_type": "display_data"
    },
    {
     "data": {
      "text/html": [
       "\n",
       "    <div>\n",
       "      <progress value='8000' class='' max='8000' style='width:300px; height:20px; vertical-align: middle;'></progress>\n",
       "      100.00% [8000/8000 00:01&lt;00:00 Sampling 4 chains, 0 divergences]\n",
       "    </div>\n",
       "    "
      ],
      "text/plain": [
       "<IPython.core.display.HTML object>"
      ]
     },
     "metadata": {},
     "output_type": "display_data"
    },
    {
     "name": "stderr",
     "output_type": "stream",
     "text": [
      "Sampling 4 chains for 1_000 tune and 1_000 draw iterations (4_000 + 4_000 draws total) took 10 seconds.\n"
     ]
    },
    {
     "data": {
      "text/html": [
       "\n",
       "<style>\n",
       "    /* Turns off some styling */\n",
       "    progress {\n",
       "        /* gets rid of default border in Firefox and Opera. */\n",
       "        border: none;\n",
       "        /* Needs to be in here for Safari polyfill so background images work as expected. */\n",
       "        background-size: auto;\n",
       "    }\n",
       "    progress:not([value]), progress:not([value])::-webkit-progress-bar {\n",
       "        background: repeating-linear-gradient(45deg, #7e7e7e, #7e7e7e 10px, #5c5c5c 10px, #5c5c5c 20px);\n",
       "    }\n",
       "    .progress-bar-interrupted, .progress-bar-interrupted::-webkit-progress-bar {\n",
       "        background: #F44336;\n",
       "    }\n",
       "</style>\n"
      ],
      "text/plain": [
       "<IPython.core.display.HTML object>"
      ]
     },
     "metadata": {},
     "output_type": "display_data"
    },
    {
     "data": {
      "text/html": [
       "\n",
       "    <div>\n",
       "      <progress value='16' class='' max='16' style='width:300px; height:20px; vertical-align: middle;'></progress>\n",
       "      100.00% [16/16 00:00&lt;00:00 logp = -220.31, ||grad|| = 26.249]\n",
       "    </div>\n",
       "    "
      ],
      "text/plain": [
       "<IPython.core.display.HTML object>"
      ]
     },
     "metadata": {},
     "output_type": "display_data"
    },
    {
     "name": "stdout",
     "output_type": "stream",
     "text": [
      "\n"
     ]
    },
    {
     "name": "stderr",
     "output_type": "stream",
     "text": [
      "Auto-assigning NUTS sampler...\n",
      "Initializing NUTS using jitter+adapt_diag...\n",
      "Multiprocess sampling (4 chains in 4 jobs)\n",
      "NUTS: [a, bt, sigma]\n"
     ]
    },
    {
     "data": {
      "text/html": [
       "\n",
       "<style>\n",
       "    /* Turns off some styling */\n",
       "    progress {\n",
       "        /* gets rid of default border in Firefox and Opera. */\n",
       "        border: none;\n",
       "        /* Needs to be in here for Safari polyfill so background images work as expected. */\n",
       "        background-size: auto;\n",
       "    }\n",
       "    progress:not([value]), progress:not([value])::-webkit-progress-bar {\n",
       "        background: repeating-linear-gradient(45deg, #7e7e7e, #7e7e7e 10px, #5c5c5c 10px, #5c5c5c 20px);\n",
       "    }\n",
       "    .progress-bar-interrupted, .progress-bar-interrupted::-webkit-progress-bar {\n",
       "        background: #F44336;\n",
       "    }\n",
       "</style>\n"
      ],
      "text/plain": [
       "<IPython.core.display.HTML object>"
      ]
     },
     "metadata": {},
     "output_type": "display_data"
    },
    {
     "data": {
      "text/html": [
       "\n",
       "    <div>\n",
       "      <progress value='8000' class='' max='8000' style='width:300px; height:20px; vertical-align: middle;'></progress>\n",
       "      100.00% [8000/8000 00:01&lt;00:00 Sampling 4 chains, 0 divergences]\n",
       "    </div>\n",
       "    "
      ],
      "text/plain": [
       "<IPython.core.display.HTML object>"
      ]
     },
     "metadata": {},
     "output_type": "display_data"
    },
    {
     "name": "stderr",
     "output_type": "stream",
     "text": [
      "Sampling 4 chains for 1_000 tune and 1_000 draw iterations (4_000 + 4_000 draws total) took 9 seconds.\n"
     ]
    }
   ],
   "source": [
    "# number of plants\n",
    "N = 100\n",
    "# simulate initial heights\n",
    "h0 = np.random.normal(10, 2, N)\n",
    "# assign treatments and simulate fungus and growth\n",
    "treatment = np.repeat([0, 1], N / 2)\n",
    "fungus = np.random.binomial(n=1, p=0.5 - treatment * 0.4, size=N)\n",
    "h1o = h0 + np.random.normal(5 - 3 * fungus, size=N)\n",
    "# compose a clean data frame\n",
    "d = pd.DataFrame.from_dict({'h0': h0, 'h1': h1o, 'treatment': treatment, 'fungus': fungus})\n",
    "\n",
    "with pm.Model() as model:\n",
    "    p = pm.Lognormal('p', 0, 0.25)\n",
    "\n",
    "    mu = pm.Deterministic('mu', p * d.h0.values)\n",
    "    sigma = pm.Exponential('sigma', 1)\n",
    "\n",
    "    h1 = pm.Normal('h1', mu=mu, sigma=sigma, observed=d.h1.values)\n",
    "\n",
    "    post66, vars_66 = quap(model)\n",
    "    m_6_6_trace = pm.sample(return_inferencedata=True)\n",
    "\n",
    "\n",
    "with pm.Model() as model:\n",
    "    a = pm.Normal('a', 0, 0.2)\n",
    "    bt = pm.Normal('bt', 0, 0.5)\n",
    "    bf = pm.Normal('bf', 0, 0.5)\n",
    "\n",
    "    p = a + bt * d.treatment.values + bf * d.fungus.values\n",
    "\n",
    "    mu = pm.Deterministic('mu', p * d.h0.values)\n",
    "    sigma = pm.Exponential('sigma', 1)\n",
    "\n",
    "    h1 = pm.Normal('h1', mu=mu, sigma=sigma, observed=d.h1.values)\n",
    "\n",
    "    post67, vars_67 = quap(model)\n",
    "    m_6_7_trace = pm.sample(return_inferencedata=True)\n",
    "    \n",
    "with pm.Model() as model:\n",
    "    a = pm.Normal('a', 0, 0.2)\n",
    "    bt = pm.Normal('bt', 0, 0.5)\n",
    "\n",
    "    p = a + bt * d.treatment.values\n",
    "\n",
    "    mu = pm.Deterministic('mu', p * d.h0.values)\n",
    "    sigma = pm.Exponential('sigma', 1)\n",
    "\n",
    "    h1 = pm.Normal('h1', mu=mu, sigma=sigma, observed=d.h1.values)\n",
    "\n",
    "    post68, vars_68 = quap(model)\n",
    "    m_6_8_trace = pm.sample(return_inferencedata=True)"
   ]
  },
  {
   "cell_type": "code",
   "execution_count": 47,
   "id": "84c035a2",
   "metadata": {},
   "outputs": [
    {
     "data": {
      "text/plain": [
       "(20245.355589017236, -4734.759086009334, 5387.918708499285, 1062.5826252608153)"
      ]
     },
     "execution_count": 47,
     "metadata": {},
     "output_type": "execute_result"
    }
   ],
   "source": [
    "# Model 6.7 WAIC\n",
    "\n",
    "\n",
    "post_data = pd.DataFrame(post67.rvs(10_000), columns=[v.name for v in vars_67])\n",
    "mu = (post_data[['a']].values + post_data[['bt']].values * treatment + post_data[['bf']].values * fungus).T\n",
    "sig = post_data[['sigma']].values.T\n",
    "\n",
    "\n",
    "\n",
    "logprob = stats.norm.logpdf(\n",
    "    h1o.reshape(-1, 1),\n",
    "    loc=mu,\n",
    "    scale=sig\n",
    ")\n",
    "\n",
    "n_cases = N\n",
    "\n",
    "lppd = logsumexp(logprob, axis=1) - np.log(10_000)\n",
    "pWAIC = logprob.var(axis=1)\n",
    "\n",
    "waic_vec = -2 * (lppd - pWAIC)\n",
    "(n_cases * waic_vec.var())**0.5\n",
    "\n",
    "(-2*(lppd.sum() - pWAIC.sum()), lppd.sum(), pWAIC.sum(), (n_cases * waic_vec.var())**0.5)"
   ]
  },
  {
   "cell_type": "markdown",
   "id": "9d7fdf17",
   "metadata": {},
   "source": [
    "We haven't used an out-of-sample to get our **Deviance** but the values are still relatively similar."
   ]
  },
  {
   "cell_type": "code",
   "execution_count": 48,
   "id": "b7dee781",
   "metadata": {},
   "outputs": [
    {
     "name": "stderr",
     "output_type": "stream",
     "text": [
      "/Users/gustavo-sf/Library/Caches/pypoetry/virtualenvs/rethinking-jYLlN9nu-py3.10/lib/python3.10/site-packages/arviz/stats/stats.py:1661: UserWarning: For one or more samples the posterior variance of the log predictive densities exceeds 0.4. This could be indication of WAIC starting to fail. \n",
      "See http://arxiv.org/abs/1507.04544 for details\n",
      "  warnings.warn(\n"
     ]
    },
    {
     "data": {
      "text/html": [
       "<div>\n",
       "<style scoped>\n",
       "    .dataframe tbody tr th:only-of-type {\n",
       "        vertical-align: middle;\n",
       "    }\n",
       "\n",
       "    .dataframe tbody tr th {\n",
       "        vertical-align: top;\n",
       "    }\n",
       "\n",
       "    .dataframe thead th {\n",
       "        text-align: right;\n",
       "    }\n",
       "</style>\n",
       "<table border=\"1\" class=\"dataframe\">\n",
       "  <thead>\n",
       "    <tr style=\"text-align: right;\">\n",
       "      <th></th>\n",
       "      <th>rank</th>\n",
       "      <th>waic</th>\n",
       "      <th>p_waic</th>\n",
       "      <th>d_waic</th>\n",
       "      <th>weight</th>\n",
       "      <th>se</th>\n",
       "      <th>dse</th>\n",
       "      <th>warning</th>\n",
       "      <th>waic_scale</th>\n",
       "    </tr>\n",
       "  </thead>\n",
       "  <tbody>\n",
       "    <tr>\n",
       "      <th>m_6_7</th>\n",
       "      <td>0</td>\n",
       "      <td>329.027348</td>\n",
       "      <td>3.697959</td>\n",
       "      <td>0.000000</td>\n",
       "      <td>1.000000e+00</td>\n",
       "      <td>13.167912</td>\n",
       "      <td>0.000000</td>\n",
       "      <td>False</td>\n",
       "      <td>deviance</td>\n",
       "    </tr>\n",
       "    <tr>\n",
       "      <th>m_6_8</th>\n",
       "      <td>1</td>\n",
       "      <td>401.837893</td>\n",
       "      <td>2.747105</td>\n",
       "      <td>72.810546</td>\n",
       "      <td>1.546646e-16</td>\n",
       "      <td>13.761569</td>\n",
       "      <td>12.585519</td>\n",
       "      <td>True</td>\n",
       "      <td>deviance</td>\n",
       "    </tr>\n",
       "    <tr>\n",
       "      <th>m_6_6</th>\n",
       "      <td>2</td>\n",
       "      <td>412.935244</td>\n",
       "      <td>1.669869</td>\n",
       "      <td>83.907896</td>\n",
       "      <td>6.020489e-19</td>\n",
       "      <td>11.978534</td>\n",
       "      <td>13.909084</td>\n",
       "      <td>False</td>\n",
       "      <td>deviance</td>\n",
       "    </tr>\n",
       "  </tbody>\n",
       "</table>\n",
       "</div>"
      ],
      "text/plain": [
       "       rank        waic    p_waic     d_waic        weight         se  \\\n",
       "m_6_7     0  329.027348  3.697959   0.000000  1.000000e+00  13.167912   \n",
       "m_6_8     1  401.837893  2.747105  72.810546  1.546646e-16  13.761569   \n",
       "m_6_6     2  412.935244  1.669869  83.907896  6.020489e-19  11.978534   \n",
       "\n",
       "             dse  warning waic_scale  \n",
       "m_6_7   0.000000    False   deviance  \n",
       "m_6_8  12.585519     True   deviance  \n",
       "m_6_6  13.909084    False   deviance  "
      ]
     },
     "execution_count": 48,
     "metadata": {},
     "output_type": "execute_result"
    }
   ],
   "source": [
    "compare_df = az.compare(\n",
    "    {\n",
    "        'm_6_6': m_6_6_trace,\n",
    "        'm_6_7': m_6_7_trace,\n",
    "        'm_6_8': m_6_8_trace,\n",
    "    },\n",
    "    method='pseudo-BMA',\n",
    "    ic='waic',\n",
    "    scale='deviance',\n",
    ")\n",
    "compare_df"
   ]
  },
  {
   "cell_type": "code",
   "execution_count": 52,
   "id": "194ca30f",
   "metadata": {},
   "outputs": [
    {
     "name": "stderr",
     "output_type": "stream",
     "text": [
      "/Users/gustavo-sf/Library/Caches/pypoetry/virtualenvs/rethinking-jYLlN9nu-py3.10/lib/python3.10/site-packages/arviz/stats/stats.py:1661: UserWarning: For one or more samples the posterior variance of the log predictive densities exceeds 0.4. This could be indication of WAIC starting to fail. \n",
      "See http://arxiv.org/abs/1507.04544 for details\n",
      "  warnings.warn(\n"
     ]
    },
    {
     "data": {
      "text/plain": [
       "array(12.58551868)"
      ]
     },
     "execution_count": 52,
     "metadata": {},
     "output_type": "execute_result"
    }
   ],
   "source": [
    "waic_m_6_7 = az.waic(m_6_7_trace, pointwise=True, scale='deviance')\n",
    "waic_m_6_8 = az.waic(m_6_8_trace, pointwise=True, scale='deviance')\n",
    "# pointwise values are stored in the waic_i attribute.\n",
    "diff_m_6_7_m_6_8 = waic_m_6_7.waic_i - waic_m_6_8.waic_i\n",
    "n = len(diff_m_6_7_m_6_8)\n",
    "((n * diff_m_6_7_m_6_8.var())**0.5).values"
   ]
  },
  {
   "cell_type": "markdown",
   "id": "f50eb809",
   "metadata": {},
   "source": [
    "#### Code 7.28"
   ]
  },
  {
   "cell_type": "code",
   "execution_count": 53,
   "id": "31e7ecb6",
   "metadata": {},
   "outputs": [
    {
     "data": {
      "text/plain": [
       "array([12.96, 67.04])"
      ]
     },
     "execution_count": 53,
     "metadata": {},
     "output_type": "execute_result"
    }
   ],
   "source": [
    "40.0 + np.array([-1, 1]) * 10.4 * 2.6"
   ]
  },
  {
   "cell_type": "markdown",
   "id": "2f04a864",
   "metadata": {},
   "source": [
    "#### Code 7.29"
   ]
  },
  {
   "cell_type": "code",
   "execution_count": 54,
   "id": "fabdbb7a",
   "metadata": {},
   "outputs": [
    {
     "data": {
      "text/plain": [
       "<AxesSubplot:xlabel='Deviance'>"
      ]
     },
     "execution_count": 54,
     "metadata": {},
     "output_type": "execute_result"
    },
    {
     "data": {
      "image/png": "[encoded data removed]",
      "text/plain": [
       "<Figure size 600x300 with 1 Axes>"
      ]
     },
     "metadata": {},
     "output_type": "display_data"
    }
   ],
   "source": [
    "az.plot_compare(compare_df)"
   ]
  },
  {
   "cell_type": "markdown",
   "id": "4978769d",
   "metadata": {},
   "source": [
    "#### Code 7.30"
   ]
  },
  {
   "cell_type": "code",
   "execution_count": 60,
   "id": "b7edea4f",
   "metadata": {},
   "outputs": [
    {
     "data": {
      "text/plain": [
       "array(8.72874456)"
      ]
     },
     "execution_count": 60,
     "metadata": {},
     "output_type": "execute_result"
    }
   ],
   "source": [
    "waic_m_6_6 = az.waic(m_6_6_trace, pointwise=True, scale='deviance')\n",
    "diff_m6_6_m6_8 = waic_m_6_6.waic_i - waic_m_6_8.waic_i\n",
    "n = len(diff_m6_6_m6_8)\n",
    "((n * diff_m6_6_m6_8.var())**0.5).values"
   ]
  }
 ],
 "metadata": {
  "kernelspec": {
   "display_name": "Python 3 (ipykernel)",
   "language": "python",
   "name": "python3"
  },
  "language_info": {
   "codemirror_mode": {
    "name": "ipython",
    "version": 3
   },
   "file_extension": ".py",
   "mimetype": "text/x-python",
   "name": "python",
   "nbconvert_exporter": "python",
   "pygments_lexer": "ipython3",
   "version": "3.10.6"
  }
 },
 "nbformat": 4,
 "nbformat_minor": 5
}
