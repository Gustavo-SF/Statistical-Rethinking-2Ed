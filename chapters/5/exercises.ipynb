{
 "cells": [
  {
   "cell_type": "markdown",
   "id": "59e0d50c",
   "metadata": {},
   "source": [
    "# Chapter 6: The Many Variables & The Spurious Waffles - Exercises"
   ]
  },
  {
   "cell_type": "code",
   "execution_count": 48,
   "id": "43895a26",
   "metadata": {},
   "outputs": [],
   "source": [
    "from matplotlib import pyplot as plt\n",
    "from causalgraphicalmodels import CausalGraphicalModel\n",
    "import daft\n",
    "from rethinking import DATA_PATH, standardize, precis\n",
    "import pandas as pd\n",
    "import pymc as pm\n",
    "import numpy as np\n",
    "from scipy import stats"
   ]
  },
  {
   "cell_type": "markdown",
   "id": "1566552c",
   "metadata": {},
   "source": [
    "**5E1** Which of the linear models below are multiple linear regressions?\n",
    "\n",
    "1. $\\mu_i = \\alpha + \\beta x_i$\n",
    "2. $\\mu_i = \\beta_xx_i + \\beta_zz_i$\n",
    "3. $\\mu_i = \\alpha + \\beta(x_i - z_i)$\n",
    "4. $\\mu_i = \\alpha + \\beta_xx_i + \\beta_zz_i$\n",
    "\n",
    "Answer:\n",
    "\n",
    "(2) and (4)"
   ]
  },
  {
   "cell_type": "markdown",
   "id": "9f35bdf8",
   "metadata": {},
   "source": [
    "**5E2** Write down a multiple regression to evaluate the claim: *Animal diversity is linearly related to latitude, but only after controlling for plant diversity*. You just need to write down the model definition.\n",
    "\n",
    "Answer:\n",
    "\n",
    "$D_{a[i]}= \\alpha + \\beta_{L}L_{[i]} - \\beta_{D_p}D_{p[i]}$"
   ]
  },
  {
   "cell_type": "markdown",
   "id": "c623fe54",
   "metadata": {},
   "source": [
    "**5E3** Write down a multiple regression to evaluate the claim: *Neither amount of funding nor size of laboratory is by itself a good predictor of time to PhD degree; but together these variables are both positively associated with time to degree*. Write down the model definition and indicate which side of zero each slope parameter should be on.\n",
    "\n",
    "Answer:\n",
    "\n",
    "$\\text{PhD}_i = \\alpha + \\beta_FF_i + \\beta_SS_i$\n",
    "\n",
    "$\\beta_F, \\beta_S >0$"
   ]
  },
  {
   "cell_type": "markdown",
   "id": "ff1b42db",
   "metadata": {},
   "source": [
    "**5E4** Suppose you have a single categorical predictor with 4 levels (unique values), labeled $A$, $B$, $C$ and $D$. Let $A_i$ be an indicator variable that is 1 where case $i$ is in category $A$. Also suppose $B_i$, $C_i$, and $D_i$ for the other categories. Now which of the following linear models are inferentially equivalent ways to include the categorical variable in a regression? Models are inferentially equivalent when it’s possible to compute one posterior distribution from the posterior distribution of another model.\n",
    "\n",
    "1. $\\mu_i = \\alpha + \\beta_AA_i + \\beta_BB_i + \\beta_DD_i$\n",
    "2. $\\mu_i = \\alpha + \\beta_AA_i + \\beta_BB_i + \\beta_CC_i + \\beta_DD_i$\n",
    "3. $\\mu_i = \\alpha + \\beta_BB_i + \\beta_CC_i + \\beta_DD_i$\n",
    "4. $\\mu_i = \\alpha_AA_i + \\alpha_BB_i + \\alpha_CC_i + \\alpha_DD_i$\n",
    "5. $\\mu_i = \\alpha_A(1 - B_i - C_i - D_i) + \\alpha_BB_i + \\alpha_CC_i + \\alpha_DD_i$\n",
    "\n",
    "Answer:\n",
    "\n",
    "(1), (3), (4) and (5) are inferentially equivalent. (2) has one extra parameter."
   ]
  },
  {
   "cell_type": "markdown",
   "id": "fc8b5382",
   "metadata": {},
   "source": [
    "**5M1** Invent your own example of a spurious correlation. An outcome variable should be correlated with both predictor variables. But when both predictors are entered in the same model, the correlation between the outcome and one of the predictors should mostly vanish (or at least be greatly reduced)\n",
    "\n",
    "Answer:\n",
    "\n",
    "If we have a predictor A that influences variable B and O, both B and O will be correlated. But, outcome O will actually be directly related to A.\n",
    "\n",
    "Let's consider an actual scenario. I am investigating the source of my stomach pain, and I have data on quantity of food I ate, and the amount of dirty dishes I had after eating. There is a positive relationship between the pain and amount of dirty dishes, but that is just because dirty dishes is also directly related to the amounf of food I ate, the actual cause of my stomach pain. Therefore there is a conditional independence on dirty dishes."
   ]
  },
  {
   "cell_type": "code",
   "execution_count": 17,
   "id": "0a1b6c7d",
   "metadata": {},
   "outputs": [
    {
     "name": "stdout",
     "output_type": "stream",
     "text": [
      "[('O', 'B', {'A'})]\n"
     ]
    },
    {
     "data": {
      "image/png": "[encoded data removed]",
      "text/plain": [
       "<Figure size 212.598x133.858 with 1 Axes>"
      ]
     },
     "metadata": {},
     "output_type": "display_data"
    }
   ],
   "source": [
    "dag = CausalGraphicalModel(nodes=['A', 'O', 'B'], edges=[('A', 'O'), ('A', 'B')])\n",
    "pgm = daft.PGM()\n",
    "coordinates = {'A': (0, 0), 'O': (1, 1), 'B': (2, 0)}\n",
    "for node in dag.dag.nodes:\n",
    "    pgm.add_node(node, node, *coordinates[node])\n",
    "for edge in dag.dag.edges:\n",
    "    pgm.add_edge(*edge)\n",
    "pgm.render()\n",
    "plt.gca().invert_yaxis();\n",
    "\n",
    "print(dag.get_all_independence_relationships())"
   ]
  },
  {
   "cell_type": "markdown",
   "id": "d7e64b61",
   "metadata": {},
   "source": [
    "**5M2** Invent your own example of a masked relationship. An outcome variable should be correlated with both predictor variables, but in opposite directions. And the two predictor variables should be correlated with one another.\n",
    "\n",
    "Answer:\n",
    "\n",
    "In this scenario, B and A have an opposite relationship with O, and in a multiple regression, they will nulify their influence."
   ]
  },
  {
   "cell_type": "code",
   "execution_count": 15,
   "id": "4de2dcc5",
   "metadata": {},
   "outputs": [
    {
     "name": "stdout",
     "output_type": "stream",
     "text": [
      "[]\n"
     ]
    },
    {
     "data": {
      "image/png": "[encoded data removed]",
      "text/plain": [
       "<Figure size 212.598x133.858 with 1 Axes>"
      ]
     },
     "metadata": {},
     "output_type": "display_data"
    }
   ],
   "source": [
    "dag = CausalGraphicalModel(nodes=['A', 'O', 'B'], edges=[('A', 'O'), ('A', 'B'), ('B', 'O')])\n",
    "pgm = daft.PGM()\n",
    "coordinates = {'A': (0, 0), 'O': (1, 1), 'B': (2, 0)}\n",
    "for node in dag.dag.nodes:\n",
    "    pgm.add_node(node, node, *coordinates[node])\n",
    "for edge in dag.dag.edges:\n",
    "    pgm.add_edge(*edge)\n",
    "pgm.render()\n",
    "plt.gca().invert_yaxis();\n",
    "\n",
    "print(dag.get_all_independence_relationships())"
   ]
  },
  {
   "cell_type": "markdown",
   "id": "98f68cdb",
   "metadata": {},
   "source": [
    "**5M3** It is sometimes observed that the best predictor of fire risk is the presence of firefighters — States and localities with many firefighters also have more fires. Presumably firefighters do not cause fires. Nevertheless, this is not a spurious correlation. Instead fires cause firefighters. Consider the same reversal of causal inference in the context of the divorce and marriage data. How might a high divorce rate cause a higher marriage rate? Can you think of a way to evaluate this relationship, using multiple regression?\n",
    "\n",
    "Answer:\n",
    "\n",
    "Suppose that people that have divorced, are more prone to get marries, therefore, increasing divorce rate could lead to more marriages. Since we only have two variables here, and the only question we have is the direction of the interaction, we can only solve this through scientific reasoning."
   ]
  },
  {
   "cell_type": "markdown",
   "id": "adf0f232",
   "metadata": {},
   "source": [
    "**5M4** In the divorce data, States with high numbers of members of the Church of Jesus Christ of Latter-day Saints (LDS) have much lower divorce rates than the regression models expected. Find a list of LDS population by State and use those numbers as a predictor variable, predicting divorce rate using marriage rate, median age at marriage, and percent LDS population (possibly standardized). You may want to consider transformations of the raw percent LDS variable."
   ]
  },
  {
   "cell_type": "code",
   "execution_count": 33,
   "id": "fecb9a18",
   "metadata": {},
   "outputs": [
    {
     "data": {
      "text/html": [
       "<div>\n",
       "<style scoped>\n",
       "    .dataframe tbody tr th:only-of-type {\n",
       "        vertical-align: middle;\n",
       "    }\n",
       "\n",
       "    .dataframe tbody tr th {\n",
       "        vertical-align: top;\n",
       "    }\n",
       "\n",
       "    .dataframe thead th {\n",
       "        text-align: right;\n",
       "    }\n",
       "</style>\n",
       "<table border=\"1\" class=\"dataframe\">\n",
       "  <thead>\n",
       "    <tr style=\"text-align: right;\">\n",
       "      <th></th>\n",
       "      <th>State</th>\n",
       "      <th>Membership</th>\n",
       "      <th>Population</th>\n",
       "      <th>LDS</th>\n",
       "      <th>Temples</th>\n",
       "      <th>Missions</th>\n",
       "      <th>Districts</th>\n",
       "      <th>Stakes</th>\n",
       "      <th>Wards</th>\n",
       "      <th>Branches</th>\n",
       "      <th>Congregations</th>\n",
       "      <th>Family History Centers</th>\n",
       "    </tr>\n",
       "  </thead>\n",
       "  <tbody>\n",
       "    <tr>\n",
       "      <th>0</th>\n",
       "      <td>Alabama</td>\n",
       "      <td>37,765</td>\n",
       "      <td>4,903,185</td>\n",
       "      <td>0.77%</td>\n",
       "      <td>1</td>\n",
       "      <td>1</td>\n",
       "      <td>0</td>\n",
       "      <td>8</td>\n",
       "      <td>48</td>\n",
       "      <td>28</td>\n",
       "      <td>76</td>\n",
       "      <td>44</td>\n",
       "    </tr>\n",
       "    <tr>\n",
       "      <th>1</th>\n",
       "      <td>Alaska</td>\n",
       "      <td>33,495</td>\n",
       "      <td>731,545</td>\n",
       "      <td>4.58%</td>\n",
       "      <td>1</td>\n",
       "      <td>1</td>\n",
       "      <td>0</td>\n",
       "      <td>8</td>\n",
       "      <td>59</td>\n",
       "      <td>21</td>\n",
       "      <td>80</td>\n",
       "      <td>15</td>\n",
       "    </tr>\n",
       "    <tr>\n",
       "      <th>2</th>\n",
       "      <td>Arizona</td>\n",
       "      <td>436,521</td>\n",
       "      <td>7,278,717</td>\n",
       "      <td>6.00%</td>\n",
       "      <td>6</td>\n",
       "      <td>6</td>\n",
       "      <td>0</td>\n",
       "      <td>115</td>\n",
       "      <td>842</td>\n",
       "      <td>84</td>\n",
       "      <td>926</td>\n",
       "      <td>74</td>\n",
       "    </tr>\n",
       "    <tr>\n",
       "      <th>3</th>\n",
       "      <td>Arkansas</td>\n",
       "      <td>32,307</td>\n",
       "      <td>3,017,804</td>\n",
       "      <td>1.07%</td>\n",
       "      <td>0</td>\n",
       "      <td>2</td>\n",
       "      <td>0</td>\n",
       "      <td>7</td>\n",
       "      <td>46</td>\n",
       "      <td>23</td>\n",
       "      <td>69</td>\n",
       "      <td>25</td>\n",
       "    </tr>\n",
       "    <tr>\n",
       "      <th>4</th>\n",
       "      <td>California</td>\n",
       "      <td>756,507</td>\n",
       "      <td>39,512,223</td>\n",
       "      <td>1.91%</td>\n",
       "      <td>7</td>\n",
       "      <td>15</td>\n",
       "      <td>0</td>\n",
       "      <td>153</td>\n",
       "      <td>1,092</td>\n",
       "      <td>137</td>\n",
       "      <td>1,229</td>\n",
       "      <td>228</td>\n",
       "    </tr>\n",
       "  </tbody>\n",
       "</table>\n",
       "</div>"
      ],
      "text/plain": [
       "        State Membership  Population    LDS  Temples  Missions  Districts  \\\n",
       "0     Alabama     37,765   4,903,185  0.77%        1         1          0   \n",
       "1      Alaska     33,495     731,545  4.58%        1         1          0   \n",
       "2     Arizona    436,521   7,278,717  6.00%        6         6          0   \n",
       "3    Arkansas     32,307   3,017,804  1.07%        0         2          0   \n",
       "4  California    756,507  39,512,223  1.91%        7        15          0   \n",
       "\n",
       "  Stakes  Wards Branches Congregations Family History Centers  \n",
       "0      8     48       28            76                     44  \n",
       "1      8     59       21            80                     15  \n",
       "2    115    842       84           926                     74  \n",
       "3      7     46       23            69                     25  \n",
       "4    153  1,092      137         1,229                    228  "
      ]
     },
     "execution_count": 33,
     "metadata": {},
     "output_type": "execute_result"
    }
   ],
   "source": [
    "waffle = pd.read_csv(DATA_PATH.joinpath('WaffleDivorce.csv'), sep=';')\n",
    "lds = pd.read_csv(DATA_PATH.joinpath('lds.csv'), sep=',')\n",
    "lds.head()"
   ]
  },
  {
   "cell_type": "code",
   "execution_count": 65,
   "id": "2997085c",
   "metadata": {},
   "outputs": [],
   "source": [
    "lds['L'] = lds['LDS'].str.extract('(.*)%').astype(float)\n",
    "data = waffle.merge(lds[['State', 'L']], left_on='Location', right_on='State')\n",
    "L = standardize(data['L']).values\n",
    "A = standardize(data['MedianAgeMarriage']).values\n",
    "M = standardize(data['Marriage']).values\n",
    "oD = data['Divorce'].values"
   ]
  },
  {
   "cell_type": "code",
   "execution_count": 49,
   "id": "76679629",
   "metadata": {},
   "outputs": [
    {
     "data": {
      "text/html": [
       "\n",
       "<style>\n",
       "    /* Turns off some styling */\n",
       "    progress {\n",
       "        /* gets rid of default border in Firefox and Opera. */\n",
       "        border: none;\n",
       "        /* Needs to be in here for Safari polyfill so background images work as expected. */\n",
       "        background-size: auto;\n",
       "    }\n",
       "    progress:not([value]), progress:not([value])::-webkit-progress-bar {\n",
       "        background: repeating-linear-gradient(45deg, #7e7e7e, #7e7e7e 10px, #5c5c5c 10px, #5c5c5c 20px);\n",
       "    }\n",
       "    .progress-bar-interrupted, .progress-bar-interrupted::-webkit-progress-bar {\n",
       "        background: #F44336;\n",
       "    }\n",
       "</style>\n"
      ],
      "text/plain": [
       "<IPython.core.display.HTML object>"
      ]
     },
     "metadata": {},
     "output_type": "display_data"
    },
    {
     "data": {
      "text/html": [
       "\n",
       "    <div>\n",
       "      <progress value='29' class='' max='29' style='width:300px; height:20px; vertical-align: middle;'></progress>\n",
       "      100.00% [29/29 00:00&lt;00:00 logp = -137.91, ||grad|| = 10.636]\n",
       "    </div>\n",
       "    "
      ],
      "text/plain": [
       "<IPython.core.display.HTML object>"
      ]
     },
     "metadata": {},
     "output_type": "display_data"
    },
    {
     "name": "stdout",
     "output_type": "stream",
     "text": [
      "\n"
     ]
    },
    {
     "data": {
      "text/html": [
       "<div>\n",
       "<style scoped>\n",
       "    .dataframe tbody tr th:only-of-type {\n",
       "        vertical-align: middle;\n",
       "    }\n",
       "\n",
       "    .dataframe tbody tr th {\n",
       "        vertical-align: top;\n",
       "    }\n",
       "\n",
       "    .dataframe thead th {\n",
       "        text-align: right;\n",
       "    }\n",
       "</style>\n",
       "<table border=\"1\" class=\"dataframe\">\n",
       "  <thead>\n",
       "    <tr style=\"text-align: right;\">\n",
       "      <th></th>\n",
       "      <th>mean</th>\n",
       "      <th>std</th>\n",
       "      <th>5.5%</th>\n",
       "      <th>94.5%</th>\n",
       "    </tr>\n",
       "  </thead>\n",
       "  <tbody>\n",
       "    <tr>\n",
       "      <th>A</th>\n",
       "      <td>9.325030</td>\n",
       "      <td>0.206443</td>\n",
       "      <td>8.996423</td>\n",
       "      <td>9.655410</td>\n",
       "    </tr>\n",
       "    <tr>\n",
       "      <th>bM</th>\n",
       "      <td>0.149413</td>\n",
       "      <td>0.246077</td>\n",
       "      <td>-0.246585</td>\n",
       "      <td>0.536158</td>\n",
       "    </tr>\n",
       "    <tr>\n",
       "      <th>bA</th>\n",
       "      <td>-1.037759</td>\n",
       "      <td>0.243923</td>\n",
       "      <td>-1.434213</td>\n",
       "      <td>-0.651102</td>\n",
       "    </tr>\n",
       "    <tr>\n",
       "      <th>bL</th>\n",
       "      <td>-0.462345</td>\n",
       "      <td>0.213543</td>\n",
       "      <td>-0.802346</td>\n",
       "      <td>-0.125971</td>\n",
       "    </tr>\n",
       "    <tr>\n",
       "      <th>sigma</th>\n",
       "      <td>1.390667</td>\n",
       "      <td>0.108455</td>\n",
       "      <td>1.217925</td>\n",
       "      <td>1.564035</td>\n",
       "    </tr>\n",
       "  </tbody>\n",
       "</table>\n",
       "</div>"
      ],
      "text/plain": [
       "           mean       std      5.5%     94.5%\n",
       "A      9.325030  0.206443  8.996423  9.655410\n",
       "bM     0.149413  0.246077 -0.246585  0.536158\n",
       "bA    -1.037759  0.243923 -1.434213 -0.651102\n",
       "bL    -0.462345  0.213543 -0.802346 -0.125971\n",
       "sigma  1.390667  0.108455  1.217925  1.564035"
      ]
     },
     "execution_count": 49,
     "metadata": {},
     "output_type": "execute_result"
    }
   ],
   "source": [
    "# Fit the multivariate model\n",
    "with pm.Model() as model:\n",
    "    a = pm.Normal('A', 0, 1)  # prior on alpha\n",
    "    bM = pm.Normal('bM', 0, 0.5)  # prior on beta_M\n",
    "    bA = pm.Normal('bA', 0, 0.5)  # prior on beta_A\n",
    "    bL = pm.Normal('bL', 0, 0.5)  # prior on beta_L\n",
    "    sigma = pm.Exponential('sigma', lam=1)  # prior on sigma\n",
    "    mu = a + bM * M + bA * A + bL * L\n",
    "    D = pm.Normal('D', mu=mu, sigma=sigma, observed=oD)  # likelihood of the data\n",
    "\n",
    "# Extract the variable names\n",
    "vars_ = [a, bM, bA, bL, sigma]\n",
    "var_names = [v.name for v in vars_]\n",
    "\n",
    "mean_q = pm.find_MAP(model=model)\n",
    "H = pm.find_hessian(mean_q, vars_, model=model)\n",
    "cov = np.linalg.inv(H)\n",
    "mean = np.concatenate([np.atleast_1d(mean_q[var_]) for var_ in var_names])\n",
    "posterior = stats.multivariate_normal(mean=mean, cov=cov)\n",
    "\n",
    "post_data = pd.DataFrame(posterior.rvs(10_000), columns=var_names)\n",
    "\n",
    "precis(posterior, var_names)"
   ]
  },
  {
   "cell_type": "markdown",
   "id": "1e85ef98",
   "metadata": {},
   "source": [
    "The posterior corroborates the claim the states with higher LDS proportions have lower divorce rates. $\\beta_L$ PI excludes the null value from being plausible when considering all of these factors."
   ]
  },
  {
   "cell_type": "markdown",
   "id": "67bcacc4",
   "metadata": {},
   "source": [
    "**5M5** One way to reason through multiple causation hypotheses is to imagine detailed mechanisms through which predictor variables may influence outcomes. For example, it is sometimes argued that the price of gasoline (predictor variable) is positively associated with lower obesity rates (outcome variable). However, there are at least two important mechanisms by which the price of gas could reduce obesity. First, it could lead to less driving and therefore more exercise. Second, it could lead to less driving, which leads to less eating out, which leads to less consumption of huge restaurant meals. Can you outline one or more multiple regressions that address these two mechanisms? Assume you can have any predictor data you need.\n",
    "\n",
    "Answer:\n",
    "\n",
    "Let's consider the variables\n",
    "\n",
    "$$\n",
    "\\begin{aligned}\n",
    "P &= \\text{Price of Gas} \\\\\n",
    "O &= \\text{Obesity} \\\\\n",
    "D &= \\text{Driving} \\\\\n",
    "M &= \\text{Meals Out} \\\\\n",
    "E &= \\text{Exercising} \\\\\n",
    "\\end{aligned}\n",
    "$$\n",
    "\n",
    "Now we can consider these relationships."
   ]
  },
  {
   "cell_type": "code",
   "execution_count": 55,
   "id": "0f95bb4a",
   "metadata": {},
   "outputs": [
    {
     "data": {
      "image/png": "[encoded data removed]",
      "text/plain": [
       "<Figure size 212.598x133.858 with 1 Axes>"
      ]
     },
     "metadata": {},
     "output_type": "display_data"
    }
   ],
   "source": [
    "dag = CausalGraphicalModel(nodes=['P', 'O', 'D', 'M', 'E'], edges=[('P', 'D'), ('D', 'M'), ('D', 'E'), ('E', 'O'), ('M', 'O')])\n",
    "pgm = daft.PGM()\n",
    "coordinates = {'P': (0, 0), 'O': (2, 1), 'D': (0, 1), 'M': (1, 0), 'E': (1, 1)}\n",
    "for node in dag.dag.nodes:\n",
    "    pgm.add_node(node, node, *coordinates[node])\n",
    "for edge in dag.dag.edges:\n",
    "    pgm.add_edge(*edge)\n",
    "pgm.render()\n",
    "plt.gca().invert_yaxis();"
   ]
  },
  {
   "cell_type": "markdown",
   "id": "dd9142ec",
   "metadata": {},
   "source": [
    "**5H1** In the divorce example, suppose the DAG is: M → A → D. What are the implied conditional independencies of the graph? Are the data consistent with it?"
   ]
  },
  {
   "cell_type": "code",
   "execution_count": 62,
   "id": "b3b3d129",
   "metadata": {},
   "outputs": [
    {
     "name": "stdout",
     "output_type": "stream",
     "text": [
      "Conditional Independencies:  [('M', 'D', {'A'})]\n"
     ]
    },
    {
     "data": {
      "image/png": "[encoded data removed]",
      "text/plain": [
       "<Figure size 212.598x133.858 with 1 Axes>"
      ]
     },
     "metadata": {},
     "output_type": "display_data"
    }
   ],
   "source": [
    "dag = CausalGraphicalModel(nodes=['M', 'A', 'D'], edges=[('M', 'A'), ('A', 'D')])\n",
    "pgm = daft.PGM()\n",
    "coordinates = {'A': (0, 0), 'D': (1, 1), 'M': (2, 0)}\n",
    "for node in dag.dag.nodes:\n",
    "    pgm.add_node(node, node, *coordinates[node])\n",
    "for edge in dag.dag.edges:\n",
    "    pgm.add_edge(*edge)\n",
    "pgm.render()\n",
    "plt.gca().invert_yaxis();\n",
    "\n",
    "print('Conditional Independencies: ', dag.get_all_independence_relationships())"
   ]
  },
  {
   "cell_type": "code",
   "execution_count": 61,
   "id": "e05d013d",
   "metadata": {},
   "outputs": [
    {
     "data": {
      "text/html": [
       "\n",
       "<style>\n",
       "    /* Turns off some styling */\n",
       "    progress {\n",
       "        /* gets rid of default border in Firefox and Opera. */\n",
       "        border: none;\n",
       "        /* Needs to be in here for Safari polyfill so background images work as expected. */\n",
       "        background-size: auto;\n",
       "    }\n",
       "    progress:not([value]), progress:not([value])::-webkit-progress-bar {\n",
       "        background: repeating-linear-gradient(45deg, #7e7e7e, #7e7e7e 10px, #5c5c5c 10px, #5c5c5c 20px);\n",
       "    }\n",
       "    .progress-bar-interrupted, .progress-bar-interrupted::-webkit-progress-bar {\n",
       "        background: #F44336;\n",
       "    }\n",
       "</style>\n"
      ],
      "text/plain": [
       "<IPython.core.display.HTML object>"
      ]
     },
     "metadata": {},
     "output_type": "display_data"
    },
    {
     "data": {
      "text/html": [
       "\n",
       "    <div>\n",
       "      <progress value='29' class='' max='29' style='width:300px; height:20px; vertical-align: middle;'></progress>\n",
       "      100.00% [29/29 00:00&lt;00:00 logp = -139.66, ||grad|| = 7.7964]\n",
       "    </div>\n",
       "    "
      ],
      "text/plain": [
       "<IPython.core.display.HTML object>"
      ]
     },
     "metadata": {},
     "output_type": "display_data"
    },
    {
     "name": "stdout",
     "output_type": "stream",
     "text": [
      "\n"
     ]
    },
    {
     "data": {
      "text/html": [
       "<div>\n",
       "<style scoped>\n",
       "    .dataframe tbody tr th:only-of-type {\n",
       "        vertical-align: middle;\n",
       "    }\n",
       "\n",
       "    .dataframe tbody tr th {\n",
       "        vertical-align: top;\n",
       "    }\n",
       "\n",
       "    .dataframe thead th {\n",
       "        text-align: right;\n",
       "    }\n",
       "</style>\n",
       "<table border=\"1\" class=\"dataframe\">\n",
       "  <thead>\n",
       "    <tr style=\"text-align: right;\">\n",
       "      <th></th>\n",
       "      <th>mean</th>\n",
       "      <th>std</th>\n",
       "      <th>5.5%</th>\n",
       "      <th>94.5%</th>\n",
       "    </tr>\n",
       "  </thead>\n",
       "  <tbody>\n",
       "    <tr>\n",
       "      <th>A</th>\n",
       "      <td>9.271427</td>\n",
       "      <td>0.223698</td>\n",
       "      <td>8.917748</td>\n",
       "      <td>9.629607</td>\n",
       "    </tr>\n",
       "    <tr>\n",
       "      <th>bM</th>\n",
       "      <td>0.017621</td>\n",
       "      <td>0.249773</td>\n",
       "      <td>-0.378263</td>\n",
       "      <td>0.424072</td>\n",
       "    </tr>\n",
       "    <tr>\n",
       "      <th>bA</th>\n",
       "      <td>-0.909184</td>\n",
       "      <td>0.255211</td>\n",
       "      <td>-1.316844</td>\n",
       "      <td>-0.496820</td>\n",
       "    </tr>\n",
       "    <tr>\n",
       "      <th>sigma</th>\n",
       "      <td>1.493979</td>\n",
       "      <td>0.106426</td>\n",
       "      <td>1.323747</td>\n",
       "      <td>1.661397</td>\n",
       "    </tr>\n",
       "  </tbody>\n",
       "</table>\n",
       "</div>"
      ],
      "text/plain": [
       "           mean       std      5.5%     94.5%\n",
       "A      9.271427  0.223698  8.917748  9.629607\n",
       "bM     0.017621  0.249773 -0.378263  0.424072\n",
       "bA    -0.909184  0.255211 -1.316844 -0.496820\n",
       "sigma  1.493979  0.106426  1.323747  1.661397"
      ]
     },
     "execution_count": 61,
     "metadata": {},
     "output_type": "execute_result"
    }
   ],
   "source": [
    "# Fit the multivariate model\n",
    "with pm.Model() as model:\n",
    "    a = pm.Normal('A', 0, 1)  # prior on alpha\n",
    "    bM = pm.Normal('bM', 0, 0.5)  # prior on beta_M\n",
    "    bA = pm.Normal('bA', 0, 0.5)  # prior on beta_A\n",
    "    sigma = pm.Exponential('sigma', 1)  # prior on sigma\n",
    "    mu = a + bM * M + bA * A\n",
    "    D = pm.Normal('D', mu=mu, sigma=sigma, observed=oD)  # likelihood of the data\n",
    "\n",
    "# Extract the variable names\n",
    "vars_ = [a, bM, bA, sigma]\n",
    "var_names = [v.name for v in vars_]\n",
    "\n",
    "mean_q = pm.find_MAP(model=model)\n",
    "H = pm.find_hessian(mean_q, vars_, model=model)\n",
    "cov = np.linalg.inv(H)\n",
    "mean = np.concatenate([np.atleast_1d(mean_q[var_]) for var_ in var_names])\n",
    "posterior = stats.multivariate_normal(mean=mean, cov=cov)\n",
    "\n",
    "post_data = pd.DataFrame(posterior.rvs(10_000), columns=var_names)\n",
    "\n",
    "precis(posterior, var_names)"
   ]
  },
  {
   "cell_type": "markdown",
   "id": "3ebfb087",
   "metadata": {},
   "source": [
    "As can be seen from the distribution summary we have $\\beta_M$ with possible no influence in a multiple regression, when $\\beta_A$ is included. We already know that there is a correlation between $M$ and $D$, therefore this is equivalent to saying that $D$ is conditionally independent of $M$ on $A$."
   ]
  },
  {
   "cell_type": "markdown",
   "id": "af9c2cae",
   "metadata": {},
   "source": [
    "**5M2** Assuming that the DAG for the divorce example is indeed M → A → D, fit a new model and use it to estimate the counterfactual effect of halving a State’s marriage rate M. Using the counterfactual example from the chapter (starting on page 140) as a template.\n",
    "\n",
    "To start, we need to do the two required models for this association."
   ]
  },
  {
   "cell_type": "code",
   "execution_count": 72,
   "id": "31dd2986",
   "metadata": {},
   "outputs": [
    {
     "data": {
      "text/html": [
       "\n",
       "<style>\n",
       "    /* Turns off some styling */\n",
       "    progress {\n",
       "        /* gets rid of default border in Firefox and Opera. */\n",
       "        border: none;\n",
       "        /* Needs to be in here for Safari polyfill so background images work as expected. */\n",
       "        background-size: auto;\n",
       "    }\n",
       "    progress:not([value]), progress:not([value])::-webkit-progress-bar {\n",
       "        background: repeating-linear-gradient(45deg, #7e7e7e, #7e7e7e 10px, #5c5c5c 10px, #5c5c5c 20px);\n",
       "    }\n",
       "    .progress-bar-interrupted, .progress-bar-interrupted::-webkit-progress-bar {\n",
       "        background: #F44336;\n",
       "    }\n",
       "</style>\n"
      ],
      "text/plain": [
       "<IPython.core.display.HTML object>"
      ]
     },
     "metadata": {},
     "output_type": "display_data"
    },
    {
     "data": {
      "text/html": [
       "\n",
       "    <div>\n",
       "      <progress value='9' class='' max='9' style='width:300px; height:20px; vertical-align: middle;'></progress>\n",
       "      100.00% [9/9 00:00&lt;00:00 logp = -72.592, ||grad|| = 35.39]\n",
       "    </div>\n",
       "    "
      ],
      "text/plain": [
       "<IPython.core.display.HTML object>"
      ]
     },
     "metadata": {},
     "output_type": "display_data"
    },
    {
     "name": "stdout",
     "output_type": "stream",
     "text": [
      "\n"
     ]
    },
    {
     "data": {
      "text/html": [
       "<div>\n",
       "<style scoped>\n",
       "    .dataframe tbody tr th:only-of-type {\n",
       "        vertical-align: middle;\n",
       "    }\n",
       "\n",
       "    .dataframe tbody tr th {\n",
       "        vertical-align: top;\n",
       "    }\n",
       "\n",
       "    .dataframe thead th {\n",
       "        text-align: right;\n",
       "    }\n",
       "</style>\n",
       "<table border=\"1\" class=\"dataframe\">\n",
       "  <thead>\n",
       "    <tr style=\"text-align: right;\">\n",
       "      <th></th>\n",
       "      <th>mean</th>\n",
       "      <th>std</th>\n",
       "      <th>5.5%</th>\n",
       "      <th>94.5%</th>\n",
       "    </tr>\n",
       "  </thead>\n",
       "  <tbody>\n",
       "    <tr>\n",
       "      <th>a</th>\n",
       "      <td>0.001479</td>\n",
       "      <td>0.096310</td>\n",
       "      <td>-0.151606</td>\n",
       "      <td>0.154959</td>\n",
       "    </tr>\n",
       "    <tr>\n",
       "      <th>bM</th>\n",
       "      <td>-0.696415</td>\n",
       "      <td>0.096187</td>\n",
       "      <td>-0.848760</td>\n",
       "      <td>-0.540217</td>\n",
       "    </tr>\n",
       "    <tr>\n",
       "      <th>sigma</th>\n",
       "      <td>0.682080</td>\n",
       "      <td>0.099323</td>\n",
       "      <td>0.520670</td>\n",
       "      <td>0.840407</td>\n",
       "    </tr>\n",
       "  </tbody>\n",
       "</table>\n",
       "</div>"
      ],
      "text/plain": [
       "           mean       std      5.5%     94.5%\n",
       "a      0.001479  0.096310 -0.151606  0.154959\n",
       "bM    -0.696415  0.096187 -0.848760 -0.540217\n",
       "sigma  0.682080  0.099323  0.520670  0.840407"
      ]
     },
     "execution_count": 72,
     "metadata": {},
     "output_type": "execute_result"
    }
   ],
   "source": [
    "# Fit the multivariate model\n",
    "with pm.Model() as model:\n",
    "    a = pm.Normal('a', 0, 1)  # prior on alpha\n",
    "    bM = pm.Normal('bM', 0, 0.5)  # prior on beta_M\n",
    "    sigma = pm.Exponential('sigma', 1)  # prior on sigma\n",
    "    mu = a + bM * M\n",
    "    D = pm.Normal('D', mu=mu, sigma=sigma, observed=A)  # likelihood of the data\n",
    "\n",
    "# Extract the variable names\n",
    "vars_ = [a, bM, sigma]\n",
    "var_names = [v.name for v in vars_]\n",
    "\n",
    "mean_q = pm.find_MAP(model=model)\n",
    "H = pm.find_hessian(mean_q, vars_, model=model)\n",
    "cov = np.linalg.inv(H)\n",
    "mean = np.concatenate([np.atleast_1d(mean_q[var_]) for var_ in var_names])\n",
    "posterior = stats.multivariate_normal(mean=mean, cov=cov)\n",
    "\n",
    "post_data_M = pd.DataFrame(posterior.rvs(10_000), columns=var_names)\n",
    "\n",
    "precis(posterior, var_names)"
   ]
  },
  {
   "cell_type": "code",
   "execution_count": 73,
   "id": "3dd78c28",
   "metadata": {},
   "outputs": [
    {
     "data": {
      "text/html": [
       "\n",
       "<style>\n",
       "    /* Turns off some styling */\n",
       "    progress {\n",
       "        /* gets rid of default border in Firefox and Opera. */\n",
       "        border: none;\n",
       "        /* Needs to be in here for Safari polyfill so background images work as expected. */\n",
       "        background-size: auto;\n",
       "    }\n",
       "    progress:not([value]), progress:not([value])::-webkit-progress-bar {\n",
       "        background: repeating-linear-gradient(45deg, #7e7e7e, #7e7e7e 10px, #5c5c5c 10px, #5c5c5c 20px);\n",
       "    }\n",
       "    .progress-bar-interrupted, .progress-bar-interrupted::-webkit-progress-bar {\n",
       "        background: #F44336;\n",
       "    }\n",
       "</style>\n"
      ],
      "text/plain": [
       "<IPython.core.display.HTML object>"
      ]
     },
     "metadata": {},
     "output_type": "display_data"
    },
    {
     "data": {
      "text/html": [
       "\n",
       "    <div>\n",
       "      <progress value='27' class='' max='27' style='width:300px; height:20px; vertical-align: middle;'></progress>\n",
       "      100.00% [27/27 00:00&lt;00:00 logp = -139.22, ||grad|| = 6.9335]\n",
       "    </div>\n",
       "    "
      ],
      "text/plain": [
       "<IPython.core.display.HTML object>"
      ]
     },
     "metadata": {},
     "output_type": "display_data"
    },
    {
     "name": "stdout",
     "output_type": "stream",
     "text": [
      "\n"
     ]
    },
    {
     "data": {
      "text/html": [
       "<div>\n",
       "<style scoped>\n",
       "    .dataframe tbody tr th:only-of-type {\n",
       "        vertical-align: middle;\n",
       "    }\n",
       "\n",
       "    .dataframe tbody tr th {\n",
       "        vertical-align: top;\n",
       "    }\n",
       "\n",
       "    .dataframe thead th {\n",
       "        text-align: right;\n",
       "    }\n",
       "</style>\n",
       "<table border=\"1\" class=\"dataframe\">\n",
       "  <thead>\n",
       "    <tr style=\"text-align: right;\">\n",
       "      <th></th>\n",
       "      <th>mean</th>\n",
       "      <th>std</th>\n",
       "      <th>5.5%</th>\n",
       "      <th>94.5%</th>\n",
       "    </tr>\n",
       "  </thead>\n",
       "  <tbody>\n",
       "    <tr>\n",
       "      <th>a</th>\n",
       "      <td>9.276884</td>\n",
       "      <td>0.221829</td>\n",
       "      <td>8.917739</td>\n",
       "      <td>9.632735</td>\n",
       "    </tr>\n",
       "    <tr>\n",
       "      <th>bA</th>\n",
       "      <td>-0.922763</td>\n",
       "      <td>0.199013</td>\n",
       "      <td>-1.240767</td>\n",
       "      <td>-0.601523</td>\n",
       "    </tr>\n",
       "    <tr>\n",
       "      <th>sigma</th>\n",
       "      <td>1.489712</td>\n",
       "      <td>0.105879</td>\n",
       "      <td>1.319569</td>\n",
       "      <td>1.657632</td>\n",
       "    </tr>\n",
       "  </tbody>\n",
       "</table>\n",
       "</div>"
      ],
      "text/plain": [
       "           mean       std      5.5%     94.5%\n",
       "a      9.276884  0.221829  8.917739  9.632735\n",
       "bA    -0.922763  0.199013 -1.240767 -0.601523\n",
       "sigma  1.489712  0.105879  1.319569  1.657632"
      ]
     },
     "execution_count": 73,
     "metadata": {},
     "output_type": "execute_result"
    }
   ],
   "source": [
    "# Fit the multivariate model\n",
    "with pm.Model() as model:\n",
    "    a = pm.Normal('a', 0, 1)  # prior on alpha\n",
    "    bA = pm.Normal('bA', 0, 0.5)  # prior on beta_A\n",
    "    sigma = pm.Exponential('sigma', 1)  # prior on sigma\n",
    "    mu = a + bA * A\n",
    "    D = pm.Normal('D', mu=mu, sigma=sigma, observed=oD)  # likelihood of the data\n",
    "\n",
    "# Extract the variable names\n",
    "vars_ = [a, bA, sigma]\n",
    "var_names = [v.name for v in vars_]\n",
    "\n",
    "mean_q = pm.find_MAP(model=model)\n",
    "H = pm.find_hessian(mean_q, vars_, model=model)\n",
    "cov = np.linalg.inv(H)\n",
    "mean = np.concatenate([np.atleast_1d(mean_q[var_]) for var_ in var_names])\n",
    "posterior = stats.multivariate_normal(mean=mean, cov=cov)\n",
    "\n",
    "post_data_A = pd.DataFrame(posterior.rvs(10_000), columns=var_names)\n",
    "\n",
    "precis(posterior, var_names)"
   ]
  },
  {
   "cell_type": "code",
   "execution_count": 97,
   "id": "ab4051a9",
   "metadata": {},
   "outputs": [
    {
     "data": {
      "image/png": "[encoded data removed]",
      "text/plain": [
       "<Figure size 300x200 with 1 Axes>"
      ]
     },
     "metadata": {},
     "output_type": "display_data"
    }
   ],
   "source": [
    "# Halving the states marriage rates\n",
    "M_halved = (\n",
    "    ((data['Marriage'] / 2) - data['Marriage'].mean())\n",
    "    / data['Marriage'].std()\n",
    ")\n",
    "M_sim = np.linspace(M_halved.min() - 0.15, M_halved.max() + 0.15, 30)\n",
    "\n",
    "A_sim = (\n",
    "    post_data_M[['a']].to_numpy()\n",
    "    + post_data_M[['bM']].to_numpy() * np.tile(M_sim, (10_000, 1))\n",
    ").mean(axis=0)\n",
    "\n",
    "mu = (\n",
    "    post_data_A[['a']].to_numpy()\n",
    "    + post_data_A[['bA']].to_numpy() * np.tile(A_sim, (10_000, 1))\n",
    ")\n",
    "mu_mean = mu.mean(axis=0)\n",
    "mu_PI = np.array([np.quantile(m, [0.055, 0.945]) for m in mu.T])\n",
    "\n",
    "M_real = M_sim * data['Marriage'].std() + data['Marriage'].mean()\n",
    "\n",
    "# Plotting\n",
    "plt.figure(figsize=(3, 2))\n",
    "ax = plt.subplot()\n",
    "plt.plot(M_real, mu_mean)\n",
    "plt.fill_between(M_real, mu_PI[:, 0], mu_PI[:, 1], alpha=0.5)\n",
    "plt.title('Counterfactual with half Marriages Rates')\n",
    "plt.xlabel('Simulated Marriage Rate (Real)')\n",
    "plt.ylabel('Divorce Rate')\n",
    "ax.spines.right.set_visible(False)\n",
    "ax.spines.top.set_visible(False);"
   ]
  },
  {
   "cell_type": "markdown",
   "id": "a48f0cfc",
   "metadata": {},
   "source": [
    "**5H3** Return to the milk energy model, m5.7. Suppose that the true causal relationship among the variables is:\n",
    "\n",
    "M → N → K    \n",
    "M → K\n",
    "\n",
    "Now compute the counterfactual effect on K of doubling M. You will need to account for both the direct and indirect paths of causation. Use the counterfactual example from the chapter (starting on page 140) as a template."
   ]
  },
  {
   "cell_type": "code",
   "execution_count": 105,
   "id": "23361e2c",
   "metadata": {},
   "outputs": [],
   "source": [
    "d = pd.read_csv(DATA_PATH.joinpath('milk.csv'), sep=';')\n",
    "d = d.dropna(subset=['kcal.per.g', 'neocortex.perc', 'mass'], how='any')\n",
    "Ko = standardize(d['kcal.per.g']).values\n",
    "N = standardize(d['neocortex.perc']).values\n",
    "M = standardize(np.log(d['mass'])).values"
   ]
  },
  {
   "cell_type": "code",
   "execution_count": 106,
   "id": "436d6505",
   "metadata": {},
   "outputs": [
    {
     "data": {
      "text/html": [
       "\n",
       "<style>\n",
       "    /* Turns off some styling */\n",
       "    progress {\n",
       "        /* gets rid of default border in Firefox and Opera. */\n",
       "        border: none;\n",
       "        /* Needs to be in here for Safari polyfill so background images work as expected. */\n",
       "        background-size: auto;\n",
       "    }\n",
       "    progress:not([value]), progress:not([value])::-webkit-progress-bar {\n",
       "        background: repeating-linear-gradient(45deg, #7e7e7e, #7e7e7e 10px, #5c5c5c 10px, #5c5c5c 20px);\n",
       "    }\n",
       "    .progress-bar-interrupted, .progress-bar-interrupted::-webkit-progress-bar {\n",
       "        background: #F44336;\n",
       "    }\n",
       "</style>\n"
      ],
      "text/plain": [
       "<IPython.core.display.HTML object>"
      ]
     },
     "metadata": {},
     "output_type": "display_data"
    },
    {
     "data": {
      "text/html": [
       "\n",
       "    <div>\n",
       "      <progress value='9' class='' max='9' style='width:300px; height:20px; vertical-align: middle;'></progress>\n",
       "      100.00% [9/9 00:00&lt;00:00 logp = -25.767, ||grad|| = 12.171]\n",
       "    </div>\n",
       "    "
      ],
      "text/plain": [
       "<IPython.core.display.HTML object>"
      ]
     },
     "metadata": {},
     "output_type": "display_data"
    },
    {
     "name": "stdout",
     "output_type": "stream",
     "text": [
      "\n"
     ]
    },
    {
     "data": {
      "text/html": [
       "<div>\n",
       "<style scoped>\n",
       "    .dataframe tbody tr th:only-of-type {\n",
       "        vertical-align: middle;\n",
       "    }\n",
       "\n",
       "    .dataframe tbody tr th {\n",
       "        vertical-align: top;\n",
       "    }\n",
       "\n",
       "    .dataframe thead th {\n",
       "        text-align: right;\n",
       "    }\n",
       "</style>\n",
       "<table border=\"1\" class=\"dataframe\">\n",
       "  <thead>\n",
       "    <tr style=\"text-align: right;\">\n",
       "      <th></th>\n",
       "      <th>mean</th>\n",
       "      <th>std</th>\n",
       "      <th>5.5%</th>\n",
       "      <th>94.5%</th>\n",
       "    </tr>\n",
       "  </thead>\n",
       "  <tbody>\n",
       "    <tr>\n",
       "      <th>a</th>\n",
       "      <td>0.000847</td>\n",
       "      <td>0.151999</td>\n",
       "      <td>-0.242160</td>\n",
       "      <td>0.246507</td>\n",
       "    </tr>\n",
       "    <tr>\n",
       "      <th>bM</th>\n",
       "      <td>0.679744</td>\n",
       "      <td>0.151797</td>\n",
       "      <td>0.440496</td>\n",
       "      <td>0.923408</td>\n",
       "    </tr>\n",
       "    <tr>\n",
       "      <th>sigma</th>\n",
       "      <td>0.632761</td>\n",
       "      <td>0.166570</td>\n",
       "      <td>0.367160</td>\n",
       "      <td>0.896122</td>\n",
       "    </tr>\n",
       "  </tbody>\n",
       "</table>\n",
       "</div>"
      ],
      "text/plain": [
       "           mean       std      5.5%     94.5%\n",
       "a      0.000847  0.151999 -0.242160  0.246507\n",
       "bM     0.679744  0.151797  0.440496  0.923408\n",
       "sigma  0.632761  0.166570  0.367160  0.896122"
      ]
     },
     "execution_count": 106,
     "metadata": {},
     "output_type": "execute_result"
    }
   ],
   "source": [
    "with pm.Model() as model_M_N:\n",
    "    a = pm.Normal('a', 0, 1)  # prior on alpha\n",
    "    bM = pm.Normal('bM', 0, 0.5)  # prior on beta_M\n",
    "    sigma = pm.Exponential('sigma', 1)  # prior on sigma\n",
    "    mu = a + bM * M\n",
    "    N = pm.Normal('N', mu=mu, sigma=sigma, observed=N)  # likelihood of the data\n",
    "    \n",
    "# Extract the variable names\n",
    "vars_ = [a, bM, sigma]\n",
    "var_names = [v.name for v in vars_]\n",
    "\n",
    "mean_q = pm.find_MAP(model=model_M_N)\n",
    "H = pm.find_hessian(mean_q, vars_, model=model_M_N)\n",
    "cov = np.linalg.inv(H)\n",
    "mean = np.concatenate([np.atleast_1d(mean_q[var_]) for var_ in var_names])\n",
    "posterior = stats.multivariate_normal(mean=mean, cov=cov)\n",
    "\n",
    "post_data_N = pd.DataFrame(posterior.rvs(10_000), columns=var_names)\n",
    "\n",
    "precis(posterior, var_names)"
   ]
  },
  {
   "cell_type": "code",
   "execution_count": 108,
   "id": "45364858",
   "metadata": {},
   "outputs": [
    {
     "data": {
      "text/html": [
       "\n",
       "<style>\n",
       "    /* Turns off some styling */\n",
       "    progress {\n",
       "        /* gets rid of default border in Firefox and Opera. */\n",
       "        border: none;\n",
       "        /* Needs to be in here for Safari polyfill so background images work as expected. */\n",
       "        background-size: auto;\n",
       "    }\n",
       "    progress:not([value]), progress:not([value])::-webkit-progress-bar {\n",
       "        background: repeating-linear-gradient(45deg, #7e7e7e, #7e7e7e 10px, #5c5c5c 10px, #5c5c5c 20px);\n",
       "    }\n",
       "    .progress-bar-interrupted, .progress-bar-interrupted::-webkit-progress-bar {\n",
       "        background: #F44336;\n",
       "    }\n",
       "</style>\n"
      ],
      "text/plain": [
       "<IPython.core.display.HTML object>"
      ]
     },
     "metadata": {},
     "output_type": "display_data"
    },
    {
     "data": {
      "text/html": [
       "\n",
       "    <div>\n",
       "      <progress value='9' class='' max='9' style='width:300px; height:20px; vertical-align: middle;'></progress>\n",
       "      100.00% [9/9 00:00&lt;00:00 logp = -25.992, ||grad|| = 6.505]\n",
       "    </div>\n",
       "    "
      ],
      "text/plain": [
       "<IPython.core.display.HTML object>"
      ]
     },
     "metadata": {},
     "output_type": "display_data"
    },
    {
     "name": "stdout",
     "output_type": "stream",
     "text": [
      "\n"
     ]
    },
    {
     "data": {
      "text/html": [
       "<div>\n",
       "<style scoped>\n",
       "    .dataframe tbody tr th:only-of-type {\n",
       "        vertical-align: middle;\n",
       "    }\n",
       "\n",
       "    .dataframe tbody tr th {\n",
       "        vertical-align: top;\n",
       "    }\n",
       "\n",
       "    .dataframe thead th {\n",
       "        text-align: right;\n",
       "    }\n",
       "</style>\n",
       "<table border=\"1\" class=\"dataframe\">\n",
       "  <thead>\n",
       "    <tr style=\"text-align: right;\">\n",
       "      <th></th>\n",
       "      <th>mean</th>\n",
       "      <th>std</th>\n",
       "      <th>5.5%</th>\n",
       "      <th>94.5%</th>\n",
       "    </tr>\n",
       "  </thead>\n",
       "  <tbody>\n",
       "    <tr>\n",
       "      <th>a</th>\n",
       "      <td>0.001418</td>\n",
       "      <td>0.164866</td>\n",
       "      <td>-0.262647</td>\n",
       "      <td>0.264957</td>\n",
       "    </tr>\n",
       "    <tr>\n",
       "      <th>bM</th>\n",
       "      <td>-0.742928</td>\n",
       "      <td>0.233220</td>\n",
       "      <td>-1.109469</td>\n",
       "      <td>-0.367966</td>\n",
       "    </tr>\n",
       "    <tr>\n",
       "      <th>bN</th>\n",
       "      <td>0.637072</td>\n",
       "      <td>0.232522</td>\n",
       "      <td>0.261986</td>\n",
       "      <td>1.006513</td>\n",
       "    </tr>\n",
       "    <tr>\n",
       "      <th>sigma</th>\n",
       "      <td>0.690616</td>\n",
       "      <td>0.178090</td>\n",
       "      <td>0.405007</td>\n",
       "      <td>0.975208</td>\n",
       "    </tr>\n",
       "  </tbody>\n",
       "</table>\n",
       "</div>"
      ],
      "text/plain": [
       "           mean       std      5.5%     94.5%\n",
       "a      0.001418  0.164866 -0.262647  0.264957\n",
       "bM    -0.742928  0.233220 -1.109469 -0.367966\n",
       "bN     0.637072  0.232522  0.261986  1.006513\n",
       "sigma  0.690616  0.178090  0.405007  0.975208"
      ]
     },
     "execution_count": 108,
     "metadata": {},
     "output_type": "execute_result"
    }
   ],
   "source": [
    "with pm.Model() as model_K:\n",
    "    a = pm.Normal('a', 0, 1)  # prior on alpha\n",
    "    bM = pm.Normal('bM', 0, 0.5)  # prior on beta_M\n",
    "    bN = pm.Normal('bN', 0, 0.5) # prior on beta_N\n",
    "    sigma = pm.Exponential('sigma', 1)  # prior on sigma\n",
    "    mu = a + bM * M + bN * N\n",
    "    K = pm.Normal('K', mu=mu, sigma=sigma, observed=Ko)  # likelihood of the data\n",
    "    \n",
    "# Extract the variable names\n",
    "vars_ = [a, bM, bN, sigma]\n",
    "var_names = [v.name for v in vars_]\n",
    "\n",
    "mean_q = pm.find_MAP(model=model_K)\n",
    "H = pm.find_hessian(mean_q, vars_, model=model_K)\n",
    "cov = np.linalg.inv(H)\n",
    "mean = np.concatenate([np.atleast_1d(mean_q[var_]) for var_ in var_names])\n",
    "posterior = stats.multivariate_normal(mean=mean, cov=cov)\n",
    "\n",
    "post_data_K = pd.DataFrame(posterior.rvs(10_000), columns=var_names)\n",
    "\n",
    "precis(posterior, var_names)"
   ]
  },
  {
   "cell_type": "code",
   "execution_count": 111,
   "id": "a58a5f70",
   "metadata": {},
   "outputs": [
    {
     "data": {
      "image/png": "[encoded data removed]",
      "text/plain": [
       "<Figure size 300x200 with 1 Axes>"
      ]
     },
     "metadata": {},
     "output_type": "display_data"
    }
   ],
   "source": [
    "# Doubling Mass\n",
    "M_doubled = (\n",
    "    (np.log(d['mass'] * 2) - np.log(d['mass']).mean())\n",
    "    / np.log(d['mass']).std()\n",
    ")\n",
    "M_sim = np.linspace(M_doubled.min() - 0.15, M_doubled.max() + 0.15, 30)\n",
    "\n",
    "N_sim = (\n",
    "    post_data_N[['a']].to_numpy()\n",
    "    + post_data_N[['bM']].to_numpy() * np.tile(M_sim, (10_000, 1))\n",
    ").mean(axis=0)\n",
    "\n",
    "mu = (\n",
    "    post_data_K[['a']].to_numpy()\n",
    "    + post_data_K[['bM']].to_numpy() * np.tile(M_sim, (10_000, 1))\n",
    "    + post_data_K[['bN']].to_numpy() * np.tile(N_sim, (10_000, 1))\n",
    ")\n",
    "mu_mean = mu.mean(axis=0)\n",
    "mu_PI = np.array([np.quantile(m, [0.055, 0.945]) for m in mu.T])\n",
    "\n",
    "M_real = np.exp(M_sim * np.log(d['mass']).std() + np.log(d['mass']).mean())\n",
    "\n",
    "# Plotting\n",
    "plt.figure(figsize=(3, 2))\n",
    "ax = plt.subplot()\n",
    "plt.plot(M_real, mu_mean)\n",
    "plt.fill_between(M_real, mu_PI[:, 0], mu_PI[:, 1], alpha=0.5)\n",
    "plt.title('Counterfactual with double Mass')\n",
    "plt.xlabel('Simulated Mass (Real)')\n",
    "plt.ylabel('Milk Kcal')\n",
    "ax.spines.right.set_visible(False)\n",
    "ax.spines.top.set_visible(False);"
   ]
  },
  {
   "cell_type": "markdown",
   "id": "f8c6fa31",
   "metadata": {},
   "source": [
    "**5H4** Here is an open practice problem to engage your imagination. In the divorce data, States in the southern United States have many of the highest divorce rates. Add the `South` indicator variable to the analysis. First, draw one or more DAGs that represent your ideas for how Southern American culture might influence any of the other three variables (D, M, or A). Then list the testable implications of your DAGs, if there are any, and fit one or more models to evaluate the implications. What do you think the influence of “Southerness” is?"
   ]
  }
 ],
 "metadata": {
  "kernelspec": {
   "display_name": "Python 3 (ipykernel)",
   "language": "python",
   "name": "python3"
  },
  "language_info": {
   "codemirror_mode": {
    "name": "ipython",
    "version": 3
   },
   "file_extension": ".py",
   "mimetype": "text/x-python",
   "name": "python",
   "nbconvert_exporter": "python",
   "pygments_lexer": "ipython3",
   "version": "3.10.6"
  }
 },
 "nbformat": 4,
 "nbformat_minor": 5
}
